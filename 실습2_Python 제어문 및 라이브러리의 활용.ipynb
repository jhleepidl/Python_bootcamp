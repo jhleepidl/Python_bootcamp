{
 "cells": [
  {
   "cell_type": "markdown",
   "id": "cce8f1c4",
   "metadata": {},
   "source": [
    "# Python 제어문 및 라이브러리 활용 실습\n",
    "References\n",
    "- https://docs.python.org/ko/3.8/tutorial/controlflow.html#\n",
    "- https://docs.python.org/ko/3.8/tutorial/controlflow.html#defining-functions\n",
    "- https://wikidocs.net/24\n",
    "- https://en.wikipedia.org/wiki/Matrix_multiplication\n",
    "- https://docs.python.org/ko/3.8/tutorial/modules.html\n",
    "- https://numpy.org/doc/stable/user/quickstart.html\n",
    "- https://matplotlib.org/stable/tutorials/toolkits/mplot3d.html#sphx-glr-tutorials-toolkits-mplot3d-py"
   ]
  },
  {
   "cell_type": "markdown",
   "id": "c87da3a8",
   "metadata": {},
   "source": [
    "## 1. Python 제어문"
   ]
  },
  {
   "cell_type": "markdown",
   "id": "3e23d443",
   "metadata": {},
   "source": [
    "### 1-1. 조건문\n",
    "![if_statement](https://raw.githubusercontent.com/jhleepidl/Python_bootcamp/main/if_statement.png)\n",
    "\n",
    "#### if문의 기본 구조\n",
    "\n",
    "```python\n",
    "if 조건:\n",
    "    조건이 True일 경우 실행할 코드\n",
    "else:\n",
    "    조건이 False일 경우 실행할 코드\n",
    "```\n",
    "\n",
    "- `else:`가 없는 경우도 있음 "
   ]
  },
  {
   "cell_type": "code",
   "execution_count": null,
   "id": "57367d14",
   "metadata": {},
   "outputs": [],
   "source": [
    "if True:\n",
    "    print('이 코드가 출력됩니다.')\n",
    "else:\n",
    "    print('이 코드는 출력되지 않습니다.')"
   ]
  },
  {
   "cell_type": "code",
   "execution_count": null,
   "id": "f23a35df",
   "metadata": {},
   "outputs": [],
   "source": [
    "a = 30\n",
    "if a > 10:\n",
    "    a = a - 10\n",
    "print(a)"
   ]
  },
  {
   "cell_type": "markdown",
   "id": "c4ba87bb",
   "metadata": {},
   "source": [
    "#### 조건으로 사용되는 것\n",
    "- Boolean 자료형\n",
    "- Boolean 자료형을 반환하는 비교 연산자\n",
    "\n",
    "|**비교 연산자**|**설명**|**예시**|\n",
    "|:---:|:---:|:---:|\n",
    "|x == y|x와 y가 동일하다|(3 == 5) → false|\n",
    "|x != y|x와 y가 동일하지 않다| (3 != 5) → true|\n",
    "|x > y|x가 y보다 크다| (3 > 5) → false|\n",
    "|x < y|x가 y보다 작다| (3 < 5) → true|\n",
    "|x >= y|x가 y보다 크거나 같다| (3 >= 5) → false|\n",
    "|x <= y|x가 y보다 작거나 같다| (3 <= 5) → true|\n",
    "\n",
    "- Boolean 자료형을 반환하는 논리 연산자\n",
    "\n",
    "|**논리 연산자**|**설명**|**예시**|\n",
    "|:---:|:---:|:---:|\n",
    "|x and y|논리 AND 연산, x와 y가 참일때만 참|(True and False) → False|\n",
    "|x or y|논리 OR 연산, x와 y 둘 중 하나만 참이여도 참| (True or False) → True|\n",
    "|not x|논리 NOT 연산, x의 논리 상태를 반전| (not True) → False|"
   ]
  },
  {
   "cell_type": "code",
   "execution_count": null,
   "id": "c1be0652",
   "metadata": {},
   "outputs": [],
   "source": [
    "x = 5\n",
    "y = 5\n",
    "if x == y:\n",
    "    print('x와 y는 같다')\n",
    "else:\n",
    "    print('x와 y는 다르다')"
   ]
  },
  {
   "cell_type": "markdown",
   "id": "5415f10b",
   "metadata": {},
   "source": [
    "#### if문 작성시 유의할 점\n",
    "- 들여쓰기 - if 문 다음에 오는 실행할 코드에 들여쓰기를 반드시 해야 함\n",
    "- 공백(Space) 4번 또는 탭(Tab)을 사용하여 들여쓰기 표현\n",
    "- Jypyter Notebook에서는 어느정도 자동으로 들여쓰기를 해줌"
   ]
  },
  {
   "cell_type": "code",
   "execution_count": null,
   "id": "8a5cd7e6",
   "metadata": {
    "scrolled": false
   },
   "outputs": [],
   "source": [
    "if True:\n",
    "print('들여쓰기가 잘못된 경우') #IndentationError: expected an indented block\n",
    "else:\n",
    "    print('들여쓰기가 잘 된 경우')"
   ]
  },
  {
   "cell_type": "code",
   "execution_count": null,
   "id": "ada05b4f",
   "metadata": {},
   "outputs": [],
   "source": [
    "if True:\n",
    "    print('if문 내부')\n",
    "print('if문 외부')\n",
    "    print('if문 외부') #IndentationError: unexpected indent"
   ]
  },
  {
   "cell_type": "code",
   "execution_count": null,
   "id": "3ade65ae",
   "metadata": {
    "scrolled": true
   },
   "outputs": [],
   "source": [
    "if True:\n",
    "    print('같은 단계의 들여쓰기 간격은')\n",
    "        print('동일해야 함') #IndentationError: unexpected indent"
   ]
  },
  {
   "cell_type": "markdown",
   "id": "5470243a",
   "metadata": {},
   "source": [
    "#### if문 예제\n",
    "- score가 90점 이상이면 A, 80점 이상이면 B, 그 외에는 C를 출력하는 코드"
   ]
  },
  {
   "cell_type": "code",
   "execution_count": null,
   "id": "649d6deb",
   "metadata": {},
   "outputs": [],
   "source": [
    "score = 60\n",
    "if score >= 90:\n",
    "    print('A')\n",
    "else:\n",
    "    if score >= 80:\n",
    "        print('B')\n",
    "    else:\n",
    "        print('C')"
   ]
  },
  {
   "cell_type": "markdown",
   "id": "b43d386a",
   "metadata": {},
   "source": [
    "#### elif의 활용\n",
    "![if_statement2](https://raw.githubusercontent.com/jhleepidl/Python_bootcamp/main/if_statement2.png)\n",
    "- `elif`를 사용하여 이중 if 문을 간략하고, 더 알아보기 쉽게 만들 수 있음\n",
    "- 기본 구조\n",
    "\n",
    "```python\n",
    "if 조건1:\n",
    "    조건1이 True일 경우 실행할 코드\n",
    "elif 조건2:\n",
    "    조건1은 False지만 조건2가 True일 경우 실행할 코드\n",
    "elif 조건3:\n",
    "    ...\n",
    "else:\n",
    "    위 조건들이 모두 False일 경우 실행할 코드\n",
    "```"
   ]
  },
  {
   "cell_type": "code",
   "execution_count": null,
   "id": "0b1687b9",
   "metadata": {},
   "outputs": [],
   "source": [
    "score = 85\n",
    "if score >= 90:\n",
    "    print('A')\n",
    "elif score >= 80:\n",
    "    print('B')\n",
    "else:\n",
    "    print('C')"
   ]
  },
  {
   "cell_type": "markdown",
   "id": "5f744d29",
   "metadata": {},
   "source": [
    "#### 조건문 활용 예제 - 윤년\n",
    "- 사용자로부터 연도를 입력받고, 조건문을 사용하여 윤년인지 평년인지 출력\n",
    "![Leap_year](https://wikidocs.net/images/page/88691/leap_year.png)"
   ]
  },
  {
   "cell_type": "code",
   "execution_count": null,
   "id": "d665c725",
   "metadata": {},
   "outputs": [],
   "source": [
    "# 연도를 입력할 변수 year를 선언하고, input() 함수를 사용해 입력받음\n",
    "year = input('연도를 입력하세요: ')\n",
    "\n",
    "# year를 문자열에서 정수 자료형으로 형변환\n",
    "year = int(year)\n",
    "\n",
    "# 4로 나누어 떨어지지 않으면:\n",
    "if (year % 4 != 0):\n",
    "    print('평년')\n",
    "# 100으로 나누어 떨어지지 않으면:\n",
    "\n",
    "# 400으로 나누어 떨어지지 않으면:\n",
    "\n",
    "# 400으로 나누어 떨어지면:\n"
   ]
  },
  {
   "cell_type": "markdown",
   "id": "6bf4c71a",
   "metadata": {},
   "source": [
    "### 1-2. 반복문: while문\n",
    "![while_loop](https://raw.githubusercontent.com/jhleepidl/Python_bootcamp/main/while_loop.png)\n",
    "\n",
    "#### while문의 기본 구조\n",
    "\n",
    "```python\n",
    "while 조건:\n",
    "    조건이 True일 동안 반복해서 수행할 코드\n",
    "    (보통 조건을 변화시키는 코드가 포함됨)\n",
    "```\n",
    "\n",
    "- 조건문과 마찬가지로 indentation에 주의"
   ]
  },
  {
   "cell_type": "code",
   "execution_count": null,
   "id": "ba1a8f31",
   "metadata": {},
   "outputs": [],
   "source": [
    "count = 5\n",
    "while count > 0:\n",
    "    print(count)\n",
    "    count = count - 1\n",
    "print('반복문 종료')"
   ]
  },
  {
   "cell_type": "code",
   "execution_count": null,
   "id": "69e44064",
   "metadata": {},
   "outputs": [],
   "source": [
    "paper_thick = 0.0001\n",
    "moon_distance = 384000000\n",
    "fold_count = 0\n",
    "while paper_thick < moon_distance:\n",
    "    fold_count = fold_count + 1\n",
    "    paper_thick = paper_thick * 2\n",
    "print(fold_count)\n",
    "print(paper_thick)"
   ]
  },
  {
   "cell_type": "markdown",
   "id": "d4a7fac5",
   "metadata": {},
   "source": [
    "#### 주의: 무한 루프\n",
    "- 순환문을 종료할 수 없는 경우 발생"
   ]
  },
  {
   "cell_type": "code",
   "execution_count": null,
   "id": "8bcb45f5",
   "metadata": {
    "scrolled": true
   },
   "outputs": [],
   "source": [
    "# 주의: 이 코드 실행시 무한루프 발생\n",
    "# 키보드에서 Ctrl+M I (interrupt)를 누르거나\n",
    "# 이 셀 좌측의 중지 버튼을 눌러 무한루프를 종료할 것\n",
    "i = 0\n",
    "while True:\n",
    "    i = i + 1"
   ]
  },
  {
   "cell_type": "code",
   "execution_count": null,
   "id": "78adb7e5",
   "metadata": {},
   "outputs": [],
   "source": [
    "print(i)"
   ]
  },
  {
   "cell_type": "markdown",
   "id": "cfe738ed",
   "metadata": {},
   "source": [
    "#### while문을 강제로 빠져나가는 법: `break`\n",
    "- while문 내에서 `break`를 이용하면 반복을 멈추고 빠져나올 수 있음\n",
    "\n",
    "```python\n",
    "while 반복문:\n",
    "    코드 A\n",
    "    if 조건:\n",
    "        ...\n",
    "        break # 코드 C 로 이동\n",
    "        ...\n",
    "    코드 B\n",
    "코드 C\n",
    "```"
   ]
  },
  {
   "cell_type": "code",
   "execution_count": null,
   "id": "49c99a15",
   "metadata": {},
   "outputs": [],
   "source": [
    "# 세 정수의 최소공배수를 구하는 코드\n",
    "i = 1\n",
    "a = 36\n",
    "b = 42\n",
    "c = 56\n",
    "while True:\n",
    "    if (i % a == 0) and (i % b == 0) and (i % c == 0): # i가 a, b, c 세 수로 모두 나누어떨어진다면\n",
    "        print(i) # i를 출력하고\n",
    "        break # while문에서 빠져나감\n",
    "    else:\n",
    "        i = i + 1 # i가 나누어떨어지지 않으면 i를 1 증가시킴"
   ]
  },
  {
   "cell_type": "markdown",
   "id": "9ab49b97",
   "metadata": {},
   "source": [
    "#### while문을 계속 실행하는 법: `continue`\n",
    "- while문 내에서 `continue`를 이용하면 while문의 첫 부분으로 돌아갈 수 있음\n",
    "\n",
    "```python\n",
    "while 반복문:\n",
    "    코드 A\n",
    "    if 조건:\n",
    "        ...\n",
    "        continue # while 반복문의 조건 체크 후, 코드 A로 이동\n",
    "        ...\n",
    "    코드 B\n",
    "코드 C\n",
    "```"
   ]
  },
  {
   "cell_type": "code",
   "execution_count": null,
   "id": "69bac3da",
   "metadata": {},
   "outputs": [],
   "source": [
    "# 1부터 10까지 숫자 중 홀수만 출력하는 코드\n",
    "i = 0\n",
    "while i < 10: \n",
    "    i = i + 1\n",
    "    if i % 2 == 0:\n",
    "        continue\n",
    "    print(i)"
   ]
  },
  {
   "cell_type": "markdown",
   "id": "75870470",
   "metadata": {},
   "source": [
    "### 1-3. 반복문: for문\n",
    "- for문의 기본 구조\n",
    "\n",
    "```python\n",
    "for 변수 in 리스트:\n",
    "    반복 실행할 문장\n",
    "```\n",
    "\n",
    "- indentation에 주의"
   ]
  },
  {
   "cell_type": "code",
   "execution_count": null,
   "id": "06a8ea7b",
   "metadata": {},
   "outputs": [],
   "source": [
    "list_A = [1, 2, 4, 8, 16]\n",
    "sum = 0\n",
    "for x in list_A:\n",
    "    sum = sum + x\n",
    "print(sum)"
   ]
  },
  {
   "cell_type": "code",
   "execution_count": null,
   "id": "4fb4ca94",
   "metadata": {},
   "outputs": [],
   "source": [
    "matrix = [\n",
    "    [1, 2, 3, 4],\n",
    "    [5, 6, 7, 8],\n",
    "    [9, 10, 11, 12] \n",
    "]\n",
    "for row in matrix:\n",
    "    for i in row:\n",
    "        print(i)"
   ]
  },
  {
   "cell_type": "markdown",
   "id": "17e5b551",
   "metadata": {},
   "source": [
    "#### for문에서도 `break`와 `continue`를 사용하여 반복문의 흐름을 제어할 수 있음"
   ]
  },
  {
   "cell_type": "code",
   "execution_count": null,
   "id": "9e702b89",
   "metadata": {
    "scrolled": true
   },
   "outputs": [],
   "source": [
    "# score가 50 이상이면 pass를 출력하고 점수를 합산, 50 아래면 skip, score가 음수면 for문을 종료\n",
    "score_list = [50, 70, 90, 45, 35, 80, -1, 40, 95]\n",
    "sum = 0\n",
    "for i in score_list:\n",
    "    if i < 0:\n",
    "        print('for문 종료')\n",
    "        break\n",
    "    elif i < 50:\n",
    "        print('skip')\n",
    "        continue\n",
    "    else:\n",
    "        sum = sum + i\n",
    "        print('pass')\n",
    "print(sum)"
   ]
  },
  {
   "cell_type": "markdown",
   "id": "e99b8fa6",
   "metadata": {},
   "source": [
    "#### `range()` 함수를 이용한 for문\n",
    "- `range(정수 x)`를 이용하여 0부터 x 미만의 숫자를 포함하는 range 객체를 생성할 수 있음\n",
    "- 이를 이용하여 특정 횟수만큼 반복하는 for문을 생성 가능"
   ]
  },
  {
   "cell_type": "code",
   "execution_count": null,
   "id": "56168f2c",
   "metadata": {},
   "outputs": [],
   "source": [
    "for i in range(10):\n",
    "    print(i)"
   ]
  },
  {
   "cell_type": "markdown",
   "id": "7bf99fb3",
   "metadata": {},
   "source": [
    "- `range(a, b)`를 사용하여 정수 a부터 b 미만의 숫자를 포함하는 객체 생성 가능"
   ]
  },
  {
   "cell_type": "code",
   "execution_count": null,
   "id": "40fb0a04",
   "metadata": {},
   "outputs": [],
   "source": [
    "sum = 0\n",
    "for i in range(1, 11):\n",
    "    sum = sum + i\n",
    "print(sum)"
   ]
  },
  {
   "cell_type": "markdown",
   "id": "3655748d",
   "metadata": {},
   "source": [
    "#### 참고: for문 활용 예제 - 행렬의 곱\n",
    "\n",
    "$\\mathbf{A}, \\mathbf{B}$를 각각 $m \\times n, n \\times p$ 행렬이라고 할 때,\n",
    "\n",
    "$\n",
    "\\mathbf{A}=\\begin{pmatrix}\n",
    " a_{11} & a_{12} & \\cdots & a_{1n} \\\\\n",
    " a_{21} & a_{22} & \\cdots & a_{2n} \\\\\n",
    "\\vdots & \\vdots & \\ddots & \\vdots \\\\\n",
    " a_{m1} & a_{m2} & \\cdots & a_{mn} \\\\\n",
    "\\end{pmatrix},\n",
    "\\quad\\mathbf{B}=\\begin{pmatrix}\n",
    " b_{11} & b_{12} & \\cdots & b_{1p} \\\\\n",
    " b_{21} & b_{22} & \\cdots & b_{2p} \\\\\n",
    "\\vdots & \\vdots & \\ddots & \\vdots \\\\\n",
    " b_{n1} & b_{n2} & \\cdots & b_{np} \\\\\n",
    "\\end{pmatrix}\n",
    "$\n",
    "\n",
    "이 때, 행렬곱 $\\mathbf{C} = \\mathbf{AB}$는 다음의 $m \\times p$ 행렬로 정의된다.\n",
    "\n",
    "$\n",
    "\\mathbf{C}=\\begin{pmatrix}\n",
    " c_{11} & c_{12} & \\cdots & c_{1p} \\\\\n",
    " c_{21} & c_{22} & \\cdots & c_{2p} \\\\\n",
    "\\vdots & \\vdots & \\ddots & \\vdots \\\\\n",
    " c_{m1} & c_{m2} & \\cdots & c_{mp} \\\\\n",
    "\\end{pmatrix}\n",
    "$\n",
    "\n",
    "$c_{ij} = a_{i1}b_{1j} + a_{i2}b_{2j} +\\cdots + a_{in}b_{nj}= \\sum_{k=1}^n a_{ik}b_{kj}$\n",
    "\n",
    "이를 for문으로 표현하면 아래와 같다."
   ]
  },
  {
   "cell_type": "code",
   "execution_count": null,
   "id": "1ed1a6ce",
   "metadata": {},
   "outputs": [],
   "source": [
    "# 3x3 matrix\n",
    "A = [\n",
    "    [3, 15, 2],\n",
    "    [4, 3, 12],\n",
    "    [6, 1, 14]\n",
    "]\n",
    "\n",
    "# 3x4 matrix\n",
    "B = [\n",
    "    [1, 3, 0, 5],\n",
    "    [4, 2, -2, 4],\n",
    "    [2, 1, 10, 3]\n",
    "]\n",
    "\n",
    "# 결과를 저장할 3x4 matrix\n",
    "C = [\n",
    "    [0, 0, 0, 0],\n",
    "    [0, 0, 0, 0],\n",
    "    [0, 0, 0, 0]\n",
    "]\n",
    "\n",
    "# for문과 range 함수를 사용하여 C의 각 원소들을 계산\n",
    "for i in range(len(A)): # A의 행들에 대하여 반복\n",
    "    for j in range(len(B[0])): # B의 열들에 대하여 반복\n",
    "        for k in range(len(B)): # B의 행들에 대하여 반복\n",
    "            C[i][j] += A[i][k] * B[k][j]\n",
    "            \n",
    "print(C)"
   ]
  },
  {
   "cell_type": "markdown",
   "id": "bdc7bc8c",
   "metadata": {},
   "source": [
    "## 연습문제 1 - 등비 급수\n",
    "\n",
    "$ \\begin{gather*} \n",
    "\\sum_{n=1}^{\\infty} ar^{n-1} = a + ar + ar^2 + \\cdots + ar^{n-1} + \\cdots \n",
    "\\end{gather*} $\n",
    "\n",
    "- $a$ 와 $r$ 값을 각각 변수 `a`, `r`에 저장\n",
    "- 위 등비 급수 $ \\left\\{ ar^{n-1} \\right\\} $ 가 수렴하기 위한 조건을 체크\n",
    "- 만약 수렴한다면, for문을 사용하여 합을 구함 (단, 반복 횟수는 100,000회로 제한)\n",
    "\n",
    "$ \\begin{gather*} \n",
    "\\sum_{n=1}^{100000} ar^{n-1} = a + ar + ar^2 + \\cdots + ar^{99999}\n",
    "\\end{gather*} $\n",
    "\n",
    "- 실제 수렴 값 $ \\begin{gather*} \\dfrac{a}{1-r} \\end{gather*}$ 과 비교"
   ]
  },
  {
   "cell_type": "code",
   "execution_count": null,
   "id": "2b699d7f",
   "metadata": {},
   "outputs": [],
   "source": [
    "# 등비 급수를 계산할 변수 sum 초기화\n",
    "sum = 0.0\n",
    "# TODO: a, r 값 할당\n",
    "a = \n",
    "r = \n",
    "\n",
    "# TODO: 등비 급수가 수렴하기 위한 조건 체크 - if문 작성\n",
    "\n",
    "    # TODO: 100000회 반복하는 for문 작성\n",
    "\n",
    "        # TODO: for문 내부에서 sum에 i번째 계산값을 더함\n",
    "    \n",
    "    # 계산한 sum을 출력\n",
    "    print(sum)\n",
    "    \n",
    "    # 실제 수렴 값 a / (1 - r) 출력\n",
    "    print(a / (1 - r))\n",
    "\n",
    "else: # 수렴하지 않을 경우\n",
    "    print('해당 등비 급수는 수렴하지 않음')"
   ]
  },
  {
   "cell_type": "markdown",
   "id": "ef9ec472",
   "metadata": {},
   "source": [
    "## 2. 함수\n",
    "![function](https://raw.githubusercontent.com/jhleepidl/Python_bootcamp/main/function.png)\n",
    "\n",
    "- 코드의 재사용성을 위하여 반복되는 코드를 불러와서 쓰기 편하도록 만든 것"
   ]
  },
  {
   "cell_type": "markdown",
   "id": "1afc90a8",
   "metadata": {},
   "source": [
    "### 2-1. 함수의 정의\n",
    "\n",
    "- 함수는 함수명과 매개변수, 함수의 주요 동작을 설명하는 코드, 그리고 반환값으로 이루어짐\n",
    "\n",
    "```python\n",
    "def 함수명(매개변수):\n",
    "    동작 코드\n",
    "    return 반환값\n",
    "```\n",
    "\n",
    "- 매개변수나 반환값이 없는 함수도 존재\n",
    "- 마찬가지로 indentation에 유의"
   ]
  },
  {
   "cell_type": "code",
   "execution_count": null,
   "id": "ba271cb9",
   "metadata": {},
   "outputs": [],
   "source": [
    "def add(a, b):\n",
    "    return a + b"
   ]
  },
  {
   "cell_type": "markdown",
   "id": "00394296",
   "metadata": {},
   "source": [
    "### 2-2. 함수의 사용\n",
    "- 함수가 선언되면, 함수의 이름을 통해 선언한 함수를 사용할 수 있음\n",
    "- 함수에 전달하고자 하는 인수를 괄호 내부에 입력하여 반환값을 얻을 수 있음\n",
    "\n",
    "```python\n",
    "반환값을 저장할 변수 = 함수명(인수)\n",
    "```\n",
    "- 함수 호출시 함수 선언에 사용한 매개변수의 수와 인수의 수가 같아야 함에 유의"
   ]
  },
  {
   "cell_type": "code",
   "execution_count": null,
   "id": "9c8ee6d2",
   "metadata": {},
   "outputs": [],
   "source": [
    "x = add(3, 5)\n",
    "print(x)\n",
    "print(add(2, 4))"
   ]
  },
  {
   "cell_type": "code",
   "execution_count": null,
   "id": "53fd3d13",
   "metadata": {},
   "outputs": [],
   "source": [
    "x = add(add(10, 20), 30)\n",
    "print(x)"
   ]
  },
  {
   "cell_type": "code",
   "execution_count": null,
   "id": "79bc0a7c",
   "metadata": {
    "scrolled": true
   },
   "outputs": [],
   "source": [
    "x = add(3) # TypeError: missing 1 required argument"
   ]
  },
  {
   "cell_type": "code",
   "execution_count": null,
   "id": "1b411890",
   "metadata": {
    "scrolled": true
   },
   "outputs": [],
   "source": [
    "x = add(3, 5, 7) # TypeError: function takes 2 positional arguments but 3 were given"
   ]
  },
  {
   "cell_type": "markdown",
   "id": "504be09e",
   "metadata": {},
   "source": [
    "### 2-3. 매개변수나 반환값이 없는 함수\n",
    "- 매개변수가 없는 함수는 다음과 같이 선언되고, 사용됨\n",
    "\n",
    "```python\n",
    "def 함수명():\n",
    "    동작코드\n",
    "    return 반환값\n",
    "\n",
    "반환값을 저장할 변수 = 함수명()\n",
    "```\n",
    "- 반환값이 없는 함수는 다음과 같이 선언되고, 사용됨\n",
    "\n",
    "```python\n",
    "def 함수명(매개변수):\n",
    "    동작코드\n",
    "\n",
    "함수명(인수)\n",
    "```\n",
    "\n",
    "- 매개변수와 반환값 모두 없는 함수의 선언과 사용\n",
    "\n",
    "```python\n",
    "def 함수명():\n",
    "    동작코드\n",
    "\n",
    "함수명()\n",
    "```"
   ]
  },
  {
   "cell_type": "code",
   "execution_count": null,
   "id": "2dc54cf5",
   "metadata": {},
   "outputs": [],
   "source": [
    "# 매개변수가 없는 함수\n",
    "def getString():\n",
    "    return 'Some string'\n",
    "\n",
    "print(getString())"
   ]
  },
  {
   "cell_type": "code",
   "execution_count": null,
   "id": "03ac6a00",
   "metadata": {
    "scrolled": true
   },
   "outputs": [],
   "source": [
    "# 반환값이 없는 함수\n",
    "def printProduct(a, b):\n",
    "    print(a * b)\n",
    "    \n",
    "printProduct(4, 6)"
   ]
  },
  {
   "cell_type": "code",
   "execution_count": null,
   "id": "cc859e24",
   "metadata": {},
   "outputs": [],
   "source": [
    "# 매개변수와 반환값이 없는 함수\n",
    "def printHello():\n",
    "    print('Hello')\n",
    "    \n",
    "printHello()"
   ]
  },
  {
   "cell_type": "markdown",
   "id": "c021ec18",
   "metadata": {},
   "source": [
    "### 함수 활용 예제 - 연습문제 1의 함수화\n",
    "- 앞서 구현한 연습문제 1의 등비급수 구하는 코드를 함수화\n",
    "- 매개변수로 a, r 값을 입력하도록 정의\n",
    "- 연습문제 1의 코드 내부 print문은 모두 삭제\n",
    "- 반환값은 sum 값을 반환하도록 설정"
   ]
  },
  {
   "cell_type": "code",
   "execution_count": null,
   "id": "442b530c",
   "metadata": {},
   "outputs": [],
   "source": [
    "# 등비급수 구하는 함수 geometric_series 정의\n",
    "def geometric_series(     ):\n",
    "    #TODO: 연습문제 1의 코드 입력, return 값 설정\n",
    "    \n",
    "    \n",
    "    \n",
    "# 결과값 확인\n",
    "print(geometric_series(1, 1/2))\n",
    "print(geometric_series(3, 0.6))\n",
    "print(geometric_series(2, 3))"
   ]
  },
  {
   "cell_type": "markdown",
   "id": "40b16e4f",
   "metadata": {},
   "source": [
    "## 3. 라이브러리 활용"
   ]
  },
  {
   "cell_type": "markdown",
   "id": "1ad96b88",
   "metadata": {},
   "source": [
    "### 3-1. Numpy\n",
    "- The fundamental package for scientific computing with Python\n",
    "\n",
    "#### ndarray\n",
    "- n-dimensional array\n",
    "- Numpy의 n차원 배열 객체\n",
    "- List와 달리, 하나의 데이터 타입만 넣을 수 있음"
   ]
  },
  {
   "cell_type": "code",
   "execution_count": null,
   "id": "67308485",
   "metadata": {},
   "outputs": [],
   "source": [
    "import numpy as np # numpy 패키지 import, np라는 축약어 사용"
   ]
  },
  {
   "cell_type": "code",
   "execution_count": null,
   "id": "e067c676",
   "metadata": {},
   "outputs": [],
   "source": [
    "a = np.array([6, 7, 8, 9, 10, 11])\n",
    "a"
   ]
  },
  {
   "cell_type": "code",
   "execution_count": null,
   "id": "aeb1e29d",
   "metadata": {},
   "outputs": [],
   "source": [
    "a.shape"
   ]
  },
  {
   "cell_type": "code",
   "execution_count": null,
   "id": "f6e84459",
   "metadata": {},
   "outputs": [],
   "source": [
    "a = a.reshape(2, 3)\n",
    "a"
   ]
  },
  {
   "cell_type": "markdown",
   "id": "1cda59ce",
   "metadata": {},
   "source": [
    "#### ndarray의 생성\n",
    "- 다양한 생성 방법이 있으나, 뒤에 나올 예제에 주로 쓰이는 것들 위주로 설명\n",
    "- `numpy.arange([start = 0, ]stop, [step = 1])`: start부터 stop 전까지 일정한 step 간격으로 떨어진 array를 반환\n",
    "- ref: https://numpy.org/doc/stable/reference/generated/numpy.arange.html#numpy.arange\""
   ]
  },
  {
   "cell_type": "code",
   "execution_count": null,
   "id": "69777bc1",
   "metadata": {},
   "outputs": [],
   "source": [
    "a = np.arange(3.0)\n",
    "a"
   ]
  },
  {
   "cell_type": "code",
   "execution_count": null,
   "id": "08a79bfd",
   "metadata": {},
   "outputs": [],
   "source": [
    "b = np.arange(1, 5)\n",
    "b"
   ]
  },
  {
   "cell_type": "code",
   "execution_count": null,
   "id": "0502289d",
   "metadata": {},
   "outputs": [],
   "source": [
    "x = np.arange(-2.0, 2.0, 0.2)\n",
    "x"
   ]
  },
  {
   "cell_type": "markdown",
   "id": "5f910b62",
   "metadata": {},
   "source": [
    "#### ndarray의 연산\n",
    "- ndarray에 대한 산술 연산은 요소 단위로 계산됨"
   ]
  },
  {
   "cell_type": "code",
   "execution_count": null,
   "id": "eb616055",
   "metadata": {},
   "outputs": [],
   "source": [
    "a = np.arange(1, 5, 1)\n",
    "print(a)\n",
    "print(a + 2)\n",
    "print(a * 2)"
   ]
  },
  {
   "cell_type": "markdown",
   "id": "798d087b",
   "metadata": {},
   "source": [
    "#### Numpy의 mathematical functions\n",
    "- 제곱근, 삼각함수 등 다양한 수학 함수들이 구현되어 있음\n",
    "- ndarray를 인자로 입력하여 ndarray 형태의 출력을 얻을 수 있음\n",
    "- ref: https://numpy.org/doc/stable/reference/routines.math.html"
   ]
  },
  {
   "cell_type": "code",
   "execution_count": null,
   "id": "7ec500ef",
   "metadata": {},
   "outputs": [],
   "source": [
    "x = np.arange(-np.pi, np.pi, np.pi/10) # pi도 내장되어있음\n",
    "x"
   ]
  },
  {
   "cell_type": "code",
   "execution_count": null,
   "id": "2f0eb66b",
   "metadata": {},
   "outputs": [],
   "source": [
    "y = np.cos(x)\n",
    "y"
   ]
  },
  {
   "cell_type": "code",
   "execution_count": null,
   "id": "3ab0a25f",
   "metadata": {},
   "outputs": [],
   "source": [
    "y = np.sqrt(np.abs(x))\n",
    "y"
   ]
  },
  {
   "cell_type": "code",
   "execution_count": null,
   "id": "99876b8b",
   "metadata": {},
   "outputs": [],
   "source": [
    "y = np.gradient(x)\n",
    "y"
   ]
  },
  {
   "cell_type": "markdown",
   "id": "c5dae3c7",
   "metadata": {},
   "source": [
    "### 3-2. Matplotlib\n",
    "- A comprehensive library for creating static, animated, and interactive visualizations in Python\n",
    "- `matplotlib.pyplot` is a collection of functions that make matplotlib work like MATLAB\n",
    "- ref: https://matplotlib.org/stable/tutorials/introductory/pyplot.html#sphx-glr-tutorials-introductory-pyplot-py"
   ]
  },
  {
   "cell_type": "code",
   "execution_count": null,
   "id": "40552d14",
   "metadata": {},
   "outputs": [],
   "source": [
    "import matplotlib.pyplot as plt # matplotlib 패키지에서 pyplot 모듈을 가져와서 plt라는 이름으로 사용"
   ]
  },
  {
   "cell_type": "code",
   "execution_count": null,
   "id": "5d2b33d3",
   "metadata": {},
   "outputs": [],
   "source": [
    "plt.plot([1, 2, 3, 4]) # (x,y) = (0,1), (1,2), (2,3), (3,4)\n",
    "plt.ylabel('y axis')\n",
    "plt.show()"
   ]
  },
  {
   "cell_type": "code",
   "execution_count": null,
   "id": "38271bfc",
   "metadata": {},
   "outputs": [],
   "source": [
    "plt.plot([1, 2, 3, 4], [1, 4, 9, 16]) # (x,y) = (1,1), (2,4), (3,9), (4,16)"
   ]
  },
  {
   "cell_type": "markdown",
   "id": "69cf9495",
   "metadata": {},
   "source": [
    "#### Plot의 스타일 설정하기\n",
    "- `plot([x], y, [fmt])` 에서 fmt에 string 형태로 스타일을 지정해줄 수 있음\n",
    "- 색깔, 마커 모양, 선 스타일들을 지정된 문자들을 조합하여 설정 가능 (문자의 순서는 상관 없음)\n",
    "- ref: https://matplotlib.org/stable/api/_as_gen/matplotlib.pyplot.plot.html#matplotlib.pyplot.plot"
   ]
  },
  {
   "cell_type": "code",
   "execution_count": null,
   "id": "3c1ae1ad",
   "metadata": {},
   "outputs": [],
   "source": [
    "plt.plot([1, 2, 3, 4], [1, 4, 9, 16], 'or') #red circle\n",
    "plt.show()"
   ]
  },
  {
   "cell_type": "code",
   "execution_count": null,
   "id": "b36d0f79",
   "metadata": {},
   "outputs": [],
   "source": [
    "plt.plot([1, 2, 3, 4], [1, 4, 9, 16], '--g') # green dashed line\n",
    "plt.show()"
   ]
  },
  {
   "cell_type": "code",
   "execution_count": null,
   "id": "bdf67cb1",
   "metadata": {},
   "outputs": [],
   "source": [
    "plt.plot([1, 2, 3, 4], [1, 4, 9, 16], '^k:') # black triangle_up markers connected by a dotted line\n",
    "plt.show()"
   ]
  },
  {
   "cell_type": "markdown",
   "id": "49634971",
   "metadata": {},
   "source": [
    "#### 축 범위 설정하기\n",
    "- `plt.axis([xmin, xmax, ymin, ymax])` 를 통해 축의 범위를 설정할 수 있음\n",
    "- ref: https://matplotlib.org/stable/api/_as_gen/matplotlib.pyplot.axis.html#matplotlib.pyplot.axis"
   ]
  },
  {
   "cell_type": "code",
   "execution_count": null,
   "id": "3668a1cb",
   "metadata": {},
   "outputs": [],
   "source": [
    "plt.plot([1, 2, 3, 4], [1, 4, 9, 16]) \n",
    "plt.axis([0, 6, 0, 20])\n",
    "plt.show()"
   ]
  },
  {
   "cell_type": "markdown",
   "id": "30b73b75",
   "metadata": {},
   "source": [
    "#### Matplotlib과 numpy를 활용하여 2D 함수 그리기\n",
    "- Numpy를 이용하여 x좌표를 생성, 각 x좌표에 해당하는 함수값 계산\n",
    "- `matplotlib.pyplot`을 이용하여 그리기"
   ]
  },
  {
   "cell_type": "code",
   "execution_count": null,
   "id": "6ba1d736",
   "metadata": {},
   "outputs": [],
   "source": [
    "x = np.arange(-np.pi, np.pi, np.pi/100)\n",
    "y = np.cos(x)\n",
    "plt.plot(x, y)"
   ]
  },
  {
   "cell_type": "markdown",
   "id": "4595dba1",
   "metadata": {},
   "source": [
    "- 함수를 정의하여 plot하기"
   ]
  },
  {
   "cell_type": "code",
   "execution_count": null,
   "id": "774d997d",
   "metadata": {},
   "outputs": [],
   "source": [
    "def f(x):\n",
    "    return np.exp(-x) * np.cos(2*np.pi*x) # f(x) = e^(-x) * cos(2*pi*x)\n",
    "\n",
    "x = np.arange(0.0, 5.0, 0.1)\n",
    "plt.plot(x, f(x), 'bo') # blue circle"
   ]
  },
  {
   "cell_type": "markdown",
   "id": "82fd7509",
   "metadata": {},
   "source": [
    "#### 추세선 그리기\n",
    "- `numpy.polyfit(x, y, deg)`를 이용하여 최소제곱법을 사용한 추세선을 계산할 수 있음\n",
    "- ref: https://numpy.org/doc/stable/reference/generated/numpy.polyfit.html\n",
    "- `numpy.poly1d` 를 이용하여 `numpy.polyfit`의 결과를 다항식 함수로 변환 가능\n",
    "- ref: https://numpy.org/doc/stable/reference/generated/numpy.poly1d.html"
   ]
  },
  {
   "cell_type": "code",
   "execution_count": null,
   "id": "ea2d13ea",
   "metadata": {},
   "outputs": [],
   "source": [
    "z = np.polyfit(x, f(x), 1)\n",
    "print(z)\n",
    "p = np.poly1d(z)\n",
    "print(p)\n",
    "plt.plot(x, f(x), 'bo')\n",
    "plt.plot(x, p(x), 'r--')\n",
    "plt.show()"
   ]
  },
  {
   "cell_type": "markdown",
   "id": "85324e9c",
   "metadata": {},
   "source": [
    "## 연습문제 2 - 함수, 추세선 그려보기\n",
    "\n",
    "- $g(x)=cos(x) + 2x$ 와 해당 함수의 추세선을 그려보기\n",
    "- 함수 `g(x)`를 정의하기\n",
    "- `np.arange`를 이용하여 x좌표를 0부터 5까지 0.05 간격으로 생성\n",
    "- `np.polyfit`과 `np.poly1d`를 활용하여 추세선 식 구하기\n",
    "- `plt.plot`을 활용하여 함수와 추세선 그리기 "
   ]
  },
  {
   "cell_type": "code",
   "execution_count": null,
   "id": "651d926d",
   "metadata": {},
   "outputs": [],
   "source": [
    "# TODO: g(x) 정의하기\n",
    "def g(x):\n",
    "\n",
    "# TODO: np.arange로 x 좌표 생성\n",
    "\n",
    "\n",
    "# TODO: np.polyfit과 np.poly1d로 추세선 구하기\n",
    "\n",
    "\n",
    "# plt.plot으로 g(x)와 추세선의 그래프 작성\n",
    "plt.plot(x, g(x), 'bo')\n",
    "plt.plot(x, p(x), 'r--')\n",
    "\n",
    "# plt.show()로 그래프 출력\n",
    "plt.show()"
   ]
  }
 ],
 "metadata": {
  "kernelspec": {
   "display_name": "Python 3",
   "language": "python",
   "name": "python3"
  },
  "language_info": {
   "codemirror_mode": {
    "name": "ipython",
    "version": 3
   },
   "file_extension": ".py",
   "mimetype": "text/x-python",
   "name": "python",
   "nbconvert_exporter": "python",
   "pygments_lexer": "ipython3",
   "version": "3.8.8"
  }
 },
 "nbformat": 4,
 "nbformat_minor": 5
}
