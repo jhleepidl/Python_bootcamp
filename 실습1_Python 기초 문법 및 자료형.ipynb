{
 "cells": [
  {
   "cell_type": "markdown",
   "id": "cce8f1c4",
   "metadata": {},
   "source": [
    "# Python 코딩 기초 문법 및 자료형\n",
    "References\n",
    "- https://docs.python.org/ko/3.8/tutorial/index.html\n",
    "- https://docs.python.org/ko/3.8/tutorial/introduction.html#strings\n",
    "- https://docs.python.org/ko/3.8/tutorial/introduction.html#lists\n",
    "- https://wikidocs.net/13\n",
    "- https://wikidocs.net/14\n",
    "\n",
    "***Enter***를 입력하면 다음 줄을 작성할 수 있고, ***Shift + Enter***를 입력하여 셀 단위로 코드를 실행할 수 있습니다."
   ]
  },
  {
   "cell_type": "markdown",
   "id": "c87da3a8",
   "metadata": {},
   "source": [
    "## 0. Hello, world! 출력\n",
    "\n",
    "![Hello_world_meme](https://pics.me.me/h-he-hel-omg-first-word-hello-world-programmer-how-programmers-are-39093685.png)\n",
    "\n",
    "- 개발 환경을 제대로 구성하였는지 확인하기 위한 코드\n",
    "- 모든 프로그래밍 언어의 첫 번째 예제 \n",
    "- Python 3 에서는 `print()` 함수를 이용하여 출력"
   ]
  },
  {
   "cell_type": "code",
   "execution_count": null,
   "id": "1d8b8a1f",
   "metadata": {},
   "outputs": [],
   "source": [
    "text = 'Hello, world!'\n",
    "print(text)"
   ]
  },
  {
   "cell_type": "markdown",
   "id": "862f5702",
   "metadata": {},
   "source": [
    "## 1. 변수"
   ]
  },
  {
   "cell_type": "markdown",
   "id": "49d2053c",
   "metadata": {},
   "source": [
    "### 1-1. 변수의 선언\n",
    "- 등호(`=`) 를 사용하여 변수에 값을 대입할 수 있음\n",
    "- `변수 = 값` 형태로 변수에 값을 할당"
   ]
  },
  {
   "cell_type": "code",
   "execution_count": null,
   "id": "84d06a70",
   "metadata": {},
   "outputs": [],
   "source": [
    "x = 50\n",
    "y = 49\n",
    "print(x, y)"
   ]
  },
  {
   "cell_type": "code",
   "execution_count": null,
   "id": "c113ebf5",
   "metadata": {},
   "outputs": [],
   "source": [
    "z = (x + y) / 2\n",
    "print(z)"
   ]
  },
  {
   "cell_type": "markdown",
   "id": "2deb3c97",
   "metadata": {},
   "source": [
    "### 1-2. 변수명의 조건\n",
    "- 하나 또는 그 이상의 공백이 없는 문자, 숫자, 언더바(`_`)의 조합\n",
    "- 숫자는 가장 처음에 등장할 수 없음\n",
    "- Python에선 대소문자를 구분하기 때문에 `abc` 란 변수와 `Abc` 란 변수는 서로 다름\n",
    "- Python 예약어와 동일한 식별자는 사용 불가\n",
    "    + 예약어: 프로그램 언어에서 사용하는 명령어로 쓰이는 식별자 \n",
    "    + `help('keywords')`를 이용하면 예약어 목록을 확인할 수 있음"
   ]
  },
  {
   "cell_type": "code",
   "execution_count": null,
   "id": "d647acca",
   "metadata": {},
   "outputs": [],
   "source": [
    "True = 3\n",
    "False = 4\n",
    "True * False"
   ]
  },
  {
   "cell_type": "code",
   "execution_count": null,
   "id": "bc428f88",
   "metadata": {},
   "outputs": [],
   "source": [
    "help('keywords')"
   ]
  },
  {
   "cell_type": "markdown",
   "id": "9a4ab6df",
   "metadata": {},
   "source": [
    "## 2. Python 기초 문법"
   ]
  },
  {
   "cell_type": "markdown",
   "id": "c243123a",
   "metadata": {},
   "source": [
    "### 2-1. 출력\n",
    "- 내장 함수인 `print()` 함수를 사용\n",
    "- 대화형 모드에서는 그냥 변수명을 적는 것으로 출력 가능"
   ]
  },
  {
   "cell_type": "code",
   "execution_count": null,
   "id": "b4037027",
   "metadata": {},
   "outputs": [],
   "source": [
    "average = 7\n",
    "print(average)"
   ]
  },
  {
   "cell_type": "code",
   "execution_count": null,
   "id": "b17aecf1",
   "metadata": {},
   "outputs": [],
   "source": [
    "name = '홍길동'\n",
    "print(name)"
   ]
  },
  {
   "cell_type": "code",
   "execution_count": null,
   "id": "10d94a29",
   "metadata": {},
   "outputs": [],
   "source": [
    "average # 대화형 모드에서만 사용 가능"
   ]
  },
  {
   "cell_type": "markdown",
   "id": "12d20bc0",
   "metadata": {},
   "source": [
    "### 2-2. 입력\n",
    "- `input()` 함수를 사용하여 키보드로 값을 입력받을 수 있음\n",
    "- Jupyter Notebook에서는 사용할 일이 적음"
   ]
  },
  {
   "cell_type": "code",
   "execution_count": null,
   "id": "8b0f4263",
   "metadata": {},
   "outputs": [],
   "source": [
    "name = input('이름을 입력해주세요: ')\n",
    "print('사용자 이름: ' + name)"
   ]
  },
  {
   "cell_type": "markdown",
   "id": "9c83752c",
   "metadata": {},
   "source": [
    "**주의:** `input()` 함수는 값을 **문자열** 자료형으로 반환하기 때문에, 숫자로 사용하려면 **변환**이 필요함"
   ]
  },
  {
   "cell_type": "code",
   "execution_count": null,
   "id": "ebbc2569",
   "metadata": {},
   "outputs": [],
   "source": [
    "number = input('제곱을 구할 정수를 입력해주세요: ')\n",
    "print(number ** 2) # Error: 문자열(str)은 제곱을 사용할 수 없음"
   ]
  },
  {
   "cell_type": "markdown",
   "id": "2022ba0f",
   "metadata": {},
   "source": [
    "### 2-3. Type casting\n",
    "- 위의 예시에서 볼 수 있듯이, 자료형에 따라 지원하는 연산과 함수가 다름\n",
    "- 자주 사용하는 type casting 예시\n",
    "    + `int(객체)`: 정수 자료형으로 변환된 값을 반환\n",
    "    + `float(객체)`: 실수 자료형으로 변환된 값을 반환\n",
    "    + `str(객체)`: 문자열 자료형으로 변환된 문자를 반환"
   ]
  },
  {
   "cell_type": "code",
   "execution_count": null,
   "id": "99e9cb01",
   "metadata": {},
   "outputs": [],
   "source": [
    "number = input('제곱을 구할 정수를 입력해주세요: ')\n",
    "print(int(number) ** 2) # 정수형으로 변환 후 제곱"
   ]
  },
  {
   "cell_type": "code",
   "execution_count": null,
   "id": "7fb1e650",
   "metadata": {},
   "outputs": [],
   "source": [
    "number * 2"
   ]
  },
  {
   "cell_type": "markdown",
   "id": "cd4ce2aa",
   "metadata": {},
   "source": [
    "**주의:** 변수에 Type casting을 해도 변수 자체의 자료형은 바뀌지 않음"
   ]
  },
  {
   "cell_type": "code",
   "execution_count": null,
   "id": "e2383114",
   "metadata": {},
   "outputs": [],
   "source": [
    "number = 3\n",
    "print(float(number))\n",
    "print(number) # 정수 자료형"
   ]
  },
  {
   "cell_type": "code",
   "execution_count": null,
   "id": "e52b7e9f",
   "metadata": {},
   "outputs": [],
   "source": [
    "number = 3\n",
    "number = float(number) # type casting한 값을 다시 변수에 할당\n",
    "print(number)"
   ]
  },
  {
   "cell_type": "markdown",
   "id": "30e9f056",
   "metadata": {},
   "source": [
    "### 2-4. 주석\n",
    "- 주석(Comment): 프로그램은 인식하지 못하지만 사용자는 볼 수 있는 코드\n",
    "- 올바른 주석을 통해 다른 사람이나 자신이 작성한 코드를 더 쉽게 이해할 수 있음\n",
    "- 코드를 수정할 때에도 주석을 활용하면 더 쉽게 수정할 수 있음\n",
    "- Python에서 주석을 다는 법: 주석으로 처리될 내용 앞에 `#` 입력"
   ]
  },
  {
   "cell_type": "code",
   "execution_count": null,
   "id": "5f5d8978",
   "metadata": {},
   "outputs": [],
   "source": [
    "# 숫자를 입력받아 3으로 나눈 몫과 나머지를 출력하는 코드\n",
    "number = input('정수를 입력해주세요: ') # number에 키보드 입력값을 받음\n",
    "number = int(number) # number를 정수형으로 형변환\n",
    "\n",
    "# TODO: number에 정수가 아닌 값을 입력했을 경우 오류 처리 필요\n",
    "\n",
    "print(number//3, number%3) # 3으로 나눈 몫과 나머지를 출력\n",
    "# TODO: 결과를 더 구조화하여 출력 필요"
   ]
  },
  {
   "cell_type": "markdown",
   "id": "b1257191",
   "metadata": {},
   "source": [
    "## 3. Python의 기본 자료형"
   ]
  },
  {
   "cell_type": "markdown",
   "id": "cf3984ce",
   "metadata": {},
   "source": [
    "### 3-1. Integer Type (정수형)\n",
    "- 소수점이 없는 정수\n",
    "- 예) `123`, `-246`, `0`\n",
    "\n",
    "### 3-2. Floating-point Type (실수형)\n",
    "- 소수점이 포함된 숫자\n",
    "- 예) `123.45`, `-4.6`, `.75`, `0.0`, `3.4e4`($=3.4 * 10^4$)\n",
    "\n",
    "#### 숫자 자료형 연산자\n",
    "- 덧셈: `+`\n",
    "- 뺄셈: `-`\n",
    "- 곱셈: `*`\n",
    "- 나눗셈: `/`\n",
    "- 몫: `//`\n",
    "- 나머지: `%`\n",
    "- 제곱: `**`\n",
    "\n",
    "#### 숫자 자료형 연산의 특징\n",
    "- 숫자 중 하나라도 실수면 결과는 실수\n",
    "- 연산자 우선 순위\n",
    "    1. 괄호 `()`\n",
    "    2. 지수 `**`\n",
    "    3. 곱셈, 나눗셈 `*`, `/`\n",
    "    4. 덧셈, 뺄셈 `+`. `-`"
   ]
  },
  {
   "cell_type": "code",
   "execution_count": null,
   "id": "6fbe827a",
   "metadata": {},
   "outputs": [],
   "source": [
    "2 + 3"
   ]
  },
  {
   "cell_type": "code",
   "execution_count": null,
   "id": "2c78ac2c",
   "metadata": {},
   "outputs": [],
   "source": [
    "50 - 5"
   ]
  },
  {
   "cell_type": "code",
   "execution_count": null,
   "id": "655cdd49",
   "metadata": {},
   "outputs": [],
   "source": [
    "5 * 6"
   ]
  },
  {
   "cell_type": "code",
   "execution_count": null,
   "id": "56e1e748",
   "metadata": {},
   "outputs": [],
   "source": [
    "9 / 3"
   ]
  },
  {
   "cell_type": "code",
   "execution_count": null,
   "id": "dea794e3",
   "metadata": {},
   "outputs": [],
   "source": [
    "9 / 7"
   ]
  },
  {
   "cell_type": "code",
   "execution_count": null,
   "id": "850d9c98",
   "metadata": {},
   "outputs": [],
   "source": [
    "9 // 2"
   ]
  },
  {
   "cell_type": "code",
   "execution_count": null,
   "id": "e9d6eff7",
   "metadata": {},
   "outputs": [],
   "source": [
    "90 % 7"
   ]
  },
  {
   "cell_type": "code",
   "execution_count": null,
   "id": "c278370e",
   "metadata": {},
   "outputs": [],
   "source": [
    "11 ** 2"
   ]
  },
  {
   "cell_type": "code",
   "execution_count": null,
   "id": "ba12c91a",
   "metadata": {},
   "outputs": [],
   "source": [
    "9 ** 0.5"
   ]
  },
  {
   "cell_type": "code",
   "execution_count": null,
   "id": "79003ca7",
   "metadata": {},
   "outputs": [],
   "source": [
    "0 ** 0"
   ]
  },
  {
   "cell_type": "markdown",
   "id": "5ba228f2",
   "metadata": {},
   "source": [
    "#### Assignment Operator (할당 연산자)\n",
    "- 변수에 값을 할당할 때 사용\n",
    "\n",
    "|**할당 연산자**|**설명**|**예시**|\n",
    "|:---:|:---:|:---:|\n",
    "|x = y|x에 y의 값을 할당| x = 3 → x = 3|\n",
    "|x += y|x와 y를 더한 값을 x에 할당| x += 3 → x = x + 3|\n",
    "|x -= y|x에서 y를 뺀 값을 x에 할당| x -= 3 → x = x - 3|\n",
    "|x &#42;= y|x와 y를 곱한 값을 x에 할당| x &#42;= 3 → x = x &#42; 3|\n",
    "|x /= y|x를 y로 나눈 값을 x에 할당| x /= 3 → x = x / 3|\n",
    "|x //= y|x를 y로 나눈 몫을 x에 할당| x //= 3 → x = x // 3|\n",
    "|x %= y|x를 y로 나눈 나머지를 x에 할당| x %= 3 → x = x % 3|\n",
    "|x &#42;&#42;= y|x의 y제곱을 x에 할당| x &#42;&#42;= 3 → x = x &#42;&#42; 3|"
   ]
  },
  {
   "cell_type": "code",
   "execution_count": null,
   "id": "918baf5e",
   "metadata": {},
   "outputs": [],
   "source": [
    "x = 10\n",
    "x += 5 # x = x + 5\n",
    "print(x)"
   ]
  },
  {
   "cell_type": "code",
   "execution_count": null,
   "id": "361ba2e3",
   "metadata": {},
   "outputs": [],
   "source": [
    "x-=10\n",
    "x"
   ]
  },
  {
   "cell_type": "markdown",
   "id": "f47f6515",
   "metadata": {},
   "source": [
    "#### 숫자 자료형에서 자주 사용하는 함수\n",
    "- `abs(x)`: x의 절댓값을 반환\n",
    "- `round(x, n)`: x를 반올림한 결과를 반환\n",
    "    - n이 양의 정수일 경우, x를 소수점 n자리로 반올림하여 반환\n",
    "    - n이 음의 정수일 경우, x를 |n| 자리에서 반올림하여 반환"
   ]
  },
  {
   "cell_type": "code",
   "execution_count": null,
   "id": "a2ec66e4",
   "metadata": {},
   "outputs": [],
   "source": [
    "print(abs(-3.1415))\n",
    "print(round(3.1415, 3))\n",
    "print(round(65536, -3))"
   ]
  },
  {
   "cell_type": "markdown",
   "id": "35d6cbc8",
   "metadata": {},
   "source": [
    "### 3-3. String Type (문자열)\n",
    "- 문자들의 집합\n",
    "- 작은따옴표(`'`)나 큰따옴표(`\"`)를 사용하여 문자열의 시작과 끝을 나타냄\n",
    "- 예) `'Hello, world'`, `'1234'`, `\"I don't know\"`, `\"안녕하세요\"`"
   ]
  },
  {
   "cell_type": "markdown",
   "id": "f2341a37",
   "metadata": {},
   "source": [
    "#### 작은따옴표를 쓰는 경우: 문자열 내에 큰따옴표를 쓰고 싶을 때"
   ]
  },
  {
   "cell_type": "code",
   "execution_count": null,
   "id": "47e65005",
   "metadata": {},
   "outputs": [],
   "source": [
    "s = 'They use \"Hello, world\" for example'\n",
    "print(s)"
   ]
  },
  {
   "cell_type": "code",
   "execution_count": null,
   "id": "2ef23246",
   "metadata": {},
   "outputs": [],
   "source": [
    "# error\n",
    "s = \"They use \"Hello, world\" for example\""
   ]
  },
  {
   "cell_type": "markdown",
   "id": "a66c7c19",
   "metadata": {},
   "source": [
    "#### 큰따옴표를 쓰는 경우: 문자열 내에 작은따옴표를 쓰고 싶을 때"
   ]
  },
  {
   "cell_type": "code",
   "execution_count": null,
   "id": "30f07bf2",
   "metadata": {},
   "outputs": [],
   "source": [
    "s = \"I'm not okay.\"\n",
    "print(s)"
   ]
  },
  {
   "cell_type": "code",
   "execution_count": null,
   "id": "4b28cba4",
   "metadata": {},
   "outputs": [],
   "source": [
    "# error\n",
    "s = 'I'm not okay.'"
   ]
  },
  {
   "cell_type": "markdown",
   "id": "b037a96a",
   "metadata": {},
   "source": [
    "### 3-4. Boolean Type (불린형)\n",
    "- 참과 거짓 (`True` or `False`) 중 하나의 값만 가질 수 있는 논리 자료형\n",
    "- `bool()` 을 이용하면 입력값이 True인지 False인지 확인할 수 있음"
   ]
  },
  {
   "cell_type": "code",
   "execution_count": null,
   "id": "3567947a",
   "metadata": {},
   "outputs": [],
   "source": [
    "False\n",
    "0\n",
    "None\n",
    "''     # 빈 문자열\n",
    "[]     # 빈 리스트\n",
    "()     # 빈 튜플\n",
    "{}     # 빈 딕셔너리\n",
    "set()"
   ]
  },
  {
   "cell_type": "code",
   "execution_count": null,
   "id": "5097849d",
   "metadata": {},
   "outputs": [],
   "source": [
    "x = True\n",
    "y = False"
   ]
  },
  {
   "cell_type": "code",
   "execution_count": null,
   "id": "0e06e882",
   "metadata": {},
   "outputs": [],
   "source": [
    "bool(set())"
   ]
  },
  {
   "cell_type": "markdown",
   "id": "a3fde673",
   "metadata": {},
   "source": [
    "#### 불린 자료형 연산자 - 논리 연산자\n",
    "- 피연산자가 불린 자료형인 연산자\n",
    "\n",
    "|**논리 연산자**|**설명**|**예시**|\n",
    "|:---:|:---:|:---:|\n",
    "|x and y|논리 AND 연산, x와 y가 참일때만 참|(True and False) → False|\n",
    "|x or y|논리 OR 연산, x와 y 둘 중 하나만 참이여도 참| (True or False) → True|\n",
    "|not x|논리 NOT 연산, x의 논리 상태를 반전| (not True) → False|\n",
    "\n",
    "- 연산자 우선 순위\n",
    "    1. `not`\n",
    "    2. `and`\n",
    "    3. `or`"
   ]
  },
  {
   "cell_type": "code",
   "execution_count": null,
   "id": "f5d7f613",
   "metadata": {},
   "outputs": [],
   "source": [
    "expression = (True and False) or (not True)\n",
    "print(expression)"
   ]
  },
  {
   "cell_type": "code",
   "execution_count": null,
   "id": "6caa7506",
   "metadata": {},
   "outputs": [],
   "source": [
    "expression = (0 == 3) or (3 < 5) and not 0\n",
    "print(expression)"
   ]
  },
  {
   "cell_type": "markdown",
   "id": "fde31be0",
   "metadata": {},
   "source": [
    "#### 불린 자료형 연산자 - 비교 연산자\n",
    "- 결과값이 `True` 또는 `False`로 반환되는 연산자\n",
    "|**비교 연산자**|**설명**|**예시**|\n",
    "|:---:|:---:|:---:|\n",
    "|x == y|x와 y가 동일하다|(3 == 5) → false|\n",
    "|x != y|x와 y가 동일하지 않다| (3 != 5) → true|\n",
    "|x > y|x가 y보다 크다| (3 > 5) → false|\n",
    "|x < y|x가 y보다 작다| (3 < 5) → true|\n",
    "|x >= y|x가 y보다 크거나 같다| (3 >= 5) → false|\n",
    "|x <= y|x가 y보다 작거나 같다| (3 <= 5) → true|"
   ]
  },
  {
   "cell_type": "code",
   "execution_count": null,
   "id": "9ac261b3",
   "metadata": {},
   "outputs": [],
   "source": [
    "print(3 == 5)\n",
    "print(3.0 == 3)\n",
    "print(2.0 == 3)\n",
    "print('1' != 1)\n",
    "print('abc' < 'def') \n",
    "print('AA' == 'aa')"
   ]
  },
  {
   "cell_type": "markdown",
   "id": "374838aa",
   "metadata": {},
   "source": [
    "## 연습문제 1 - 수치 미분 \n",
    "- 함수: $f(x) = x^3$\n",
    "- 사용자로부터 값을 입력받아 변수 `a`에 저장\n",
    "- x = a 일 때의 미분값을 아래 정의를 사용하여 계산\n",
    "    + Δx를 0으로 수렴시키는 대신 작은 값을 입력 (0.00001)\n",
    "![미분정의](https://wikimedia.org/api/rest_v1/media/math/render/svg/88349812ad8e22727ed7e2f3280a5b6b8e970ef6)\n",
    "- 실제 미분값과 비교: $f'(a) = 3a^2$\n",
    "\n",
    "![2_입출력예시](https://raw.githubusercontent.com/jhleepidl/Python_bootcamp/main/2_%EC%9E%85%EC%B6%9C%EB%A0%A5%EC%98%88%EC%8B%9C.png)\n",
    "<center> 입출력 예시 </center>"
   ]
  },
  {
   "cell_type": "code",
   "execution_count": null,
   "id": "79a4a140",
   "metadata": {},
   "outputs": [],
   "source": [
    "# 코드 작성\n",
    "# TODO: input() 함수를 사용하여 값을 입력받아 변수 a에 저장\n",
    "\n",
    "# TODO: a를 실수형 float으로 type casting\n",
    "\n",
    "# TODO: 변수 delta 에 0.00001 할당\n",
    "\n",
    "# TODO: (a + delta)의 세제곱에서 a 의 세제곱을 뺀 뒤 delta로 나눈 값을 출력\n",
    "# 아래 예시: f(x) = x^2\n",
    "print (((a + delta) ** 2 - a ** 2 ) / delta)\n",
    "\n",
    "# 실제 미분값 출력\n",
    "print (2 * a)"
   ]
  },
  {
   "cell_type": "markdown",
   "id": "7fd36086",
   "metadata": {},
   "source": [
    "## 4. 파이썬의 복합 자료형 - List (리스트)"
   ]
  },
  {
   "cell_type": "markdown",
   "id": "53d98431",
   "metadata": {},
   "source": [
    "### 4-1. 리스트의 생성\n",
    "- 대괄호 `[]`로 감싸고 각 요소값을 쉼표 `,` 로 구분하여 리스트를 생성\n",
    "- 리스트 안에는 어떠한 자료형도 포함시킬 수 있음"
   ]
  },
  {
   "cell_type": "code",
   "execution_count": null,
   "id": "e2e3dc0a",
   "metadata": {},
   "outputs": [],
   "source": [
    "empty_list = []\n",
    "list_a = [123, 45.6, 7, 8.9]\n",
    "list_b = ['AI', 'Literacy', 1]\n",
    "list_c = [1, 2, ['AI', 'Literacy']]\n",
    "list_d = [[1, 2], [3, 4], [5, 6]]"
   ]
  },
  {
   "cell_type": "markdown",
   "id": "598ab857",
   "metadata": {},
   "source": [
    "### 4-2. 리스트의 인덱싱\n",
    "- 리스트의 각 요소를 순서를 매겨 가리키는 것\n",
    "- ex) `a = [1, 3, 5, 7, 9]`\n",
    "- 0 번째 요소: 1\n",
    "- 3 번째 요소: 7\n",
    "- 대괄호 '`[]`'를 이용하여 리스트에서 특정 순서의 요소를 추출할 수 있음\n",
    "- 순서는 0부터 시작하는 것에 유의"
   ]
  },
  {
   "cell_type": "code",
   "execution_count": null,
   "id": "6c15c9a9",
   "metadata": {},
   "outputs": [],
   "source": [
    "a = [1, 3, 5, 7, 9]\n",
    "print(a[0])\n",
    "print(a[3])\n",
    "print(a[1] + a[4])\n",
    "print(a[-1]) # 뒤에서부터 셀 수도 있음"
   ]
  },
  {
   "cell_type": "markdown",
   "id": "94a9c746",
   "metadata": {},
   "source": [
    "#### 리스트의 길이를 넘는 인덱스를 입력하면 에러가 발생함"
   ]
  },
  {
   "cell_type": "code",
   "execution_count": null,
   "id": "131fb214",
   "metadata": {},
   "outputs": [],
   "source": [
    "print(a[5]) # error: list index out of range"
   ]
  },
  {
   "cell_type": "code",
   "execution_count": null,
   "id": "7a5cf8bf",
   "metadata": {},
   "outputs": [],
   "source": [
    "print(a[-6]) # error: list index out of range"
   ]
  },
  {
   "cell_type": "markdown",
   "id": "a0649d29",
   "metadata": {},
   "source": [
    "### 4-3. 중첩된 리스트\n",
    "- 리스트 생성 예시에서 봤듯이, 리스트에 리스트가 포함될 수 있음\n",
    "- ex) `complex_list = [1, 2, ['a', 'b', 'c']]`"
   ]
  },
  {
   "cell_type": "code",
   "execution_count": null,
   "id": "a69d4f46",
   "metadata": {},
   "outputs": [],
   "source": [
    "complex_list = [1, 2, ['a', 'b', 'c']]\n",
    "complex_list[2]"
   ]
  },
  {
   "cell_type": "markdown",
   "id": "ef70dbf3",
   "metadata": {},
   "source": [
    "- 위 리스트에서 인덱싱을 두 번 하면 `'b'` 를 추출할 수 있음"
   ]
  },
  {
   "cell_type": "code",
   "execution_count": null,
   "id": "78b2db4f",
   "metadata": {},
   "outputs": [],
   "source": [
    "complex_list[2][1]"
   ]
  },
  {
   "cell_type": "markdown",
   "id": "4f52feeb",
   "metadata": {},
   "source": [
    "#### 행렬의 표현\n",
    "- 중첩 리스트를 활용하여 행렬을 표현할 수 있음\n",
    "- ex) 3x4 행렬: \n",
    "$ \\left[\n",
    "\\begin{matrix}\n",
    "    1 & 2 & 3 & 4 \\\\\n",
    "    5 & 6 & 7 & 8 \\\\\n",
    "    9 & 10 & 11 & 12 \\\\\n",
    "\\end{matrix}\n",
    "\\right] $"
   ]
  },
  {
   "cell_type": "code",
   "execution_count": null,
   "id": "a0248951",
   "metadata": {},
   "outputs": [],
   "source": [
    "matrix = [\n",
    "    [1, 2, 3, 4],\n",
    "    [5, 6, 7, 8],\n",
    "    [9, 10, 11, 12] \n",
    "]\n",
    "print(matrix)"
   ]
  },
  {
   "cell_type": "code",
   "execution_count": null,
   "id": "cdaa39bc",
   "metadata": {},
   "outputs": [],
   "source": [
    "print(matrix[0])\n",
    "print(matrix[1][2])\n",
    "print(matrix[2][3])"
   ]
  },
  {
   "cell_type": "markdown",
   "id": "dfcc6414",
   "metadata": {},
   "source": [
    "### 4-4. 리스트 슬라이싱\n",
    "- 리스트에서 특정 범위의 요소를 추출하는 방법\n",
    "- 콜론 '`:`'을 이용하여, 리스트에서 추출할 범위를 지정할 수 있음\n",
    "- `a[i:j]`: `a` 리스트의 `i`번째 요소부터 `j-1`번째 요소까지 추출\n",
    "- `a[i:]`: `a` 리스트의 `i`번째 요소부터 끝까지 추출\n",
    "- `a[:j]`: `a` 리스트의 처음부터 `j-1`번째 요소까지 추출\n",
    "- `a[:]`: `a` 리스트의 처음부터 끝까지 추출 (=`a` 리스트 그대로)"
   ]
  },
  {
   "cell_type": "code",
   "execution_count": null,
   "id": "7eb0ca0f",
   "metadata": {},
   "outputs": [],
   "source": [
    "a = [1, 2, 4, 8, 16, 32]\n",
    "print(a[:]) # a\n",
    "print(a[0:3]) # 1, 2, 4\n",
    "print(a[:4])\n",
    "print(a[4:])\n",
    "print(a[-2:])"
   ]
  },
  {
   "cell_type": "markdown",
   "id": "57c5a340",
   "metadata": {},
   "source": [
    "### 4-5. 리스트 연산\n",
    "- 리스트 더하기 (`+`): 2개의 리스트를 이어 붙이는 연산\n",
    "- 리스트 반복하기 (`*`): 리스트를 특정 횟수 반복시키는 연산"
   ]
  },
  {
   "cell_type": "code",
   "execution_count": null,
   "id": "c196702e",
   "metadata": {},
   "outputs": [],
   "source": [
    "a = [1, 3, 5]\n",
    "b = [2, 4, 6]\n",
    "print(a + b)\n",
    "print(a * 3)"
   ]
  },
  {
   "cell_type": "markdown",
   "id": "1b3fbc65",
   "metadata": {},
   "source": [
    "#### 리스트 길이 구하기\n",
    "- `len()` 함수를 이용하면 리스트의 길이를 구할 수 있음"
   ]
  },
  {
   "cell_type": "code",
   "execution_count": null,
   "id": "8aa0d821",
   "metadata": {},
   "outputs": [],
   "source": [
    "a = [1, 2, 3]\n",
    "b = [1, 2, 3, ['a', 'b', 2, 1, 0]]\n",
    "print(len(a))\n",
    "print(len(b))\n",
    "print(len(b[3]))"
   ]
  },
  {
   "cell_type": "markdown",
   "id": "103eced8",
   "metadata": {},
   "source": [
    "#### 리스트의 수정과 삭제\n",
    "- 인덱스를 활용하여 기존 요소를 수정할 수 있음\n",
    "- del 함수를 사용하여 리스트에서 요소를 삭제할 수 있음"
   ]
  },
  {
   "cell_type": "code",
   "execution_count": null,
   "id": "add7c932",
   "metadata": {},
   "outputs": [],
   "source": [
    "a = ['Cat', 'Dog', 'Elephant', 'Fox']\n",
    "print(a)\n",
    "\n",
    "a[2] = 'Eagle' # 2 번째 요소 'Elephant'를 'Eagle'로 바꿈\n",
    "print(a) # ['Cat', 'Dog', 'Eagle', 'Fox']\n",
    "\n",
    "del a[1] # 1 번째 요소 'Dog'를 리스트에서 삭제\n",
    "print(a) # ['Cat', 'Eagle', 'Fox']"
   ]
  },
  {
   "cell_type": "markdown",
   "id": "b316ac89",
   "metadata": {},
   "source": [
    "## 연습문제 2 - 행렬의 연산\n",
    "- 중첩 리스트를 활용하여, 행렬을 선언하고, 각종 연산을 직접 구현해보기\n",
    "- $A = \n",
    "\\left[\n",
    "\\begin{matrix}\n",
    "    2 & 1\\\\\n",
    "    4 & 7\\\\\n",
    "\\end{matrix}\n",
    "\\right]$, \n",
    "$B = \n",
    "\\left[\n",
    "\\begin{matrix}\n",
    "    4 & 2\\\\\n",
    "    9 & 5\\\\\n",
    "\\end{matrix}\n",
    "\\right]$\n",
    "- 구현해야 할 연산\n",
    "    1. A의 행렬식 $|A|$ 을 계산하여 출력\n",
    "    2. A의 역행렬 $A^{-1}$ 을 계산하여 출력\n",
    "    3. A와 B의 합 $A + B$ 을 계산하여 출력\n",
    "- 단, 리스트의 인덱스(ex: `A[0][1], B[1][0], ...`)를 활용하여 코드를 구현할 것"
   ]
  },
  {
   "cell_type": "code",
   "execution_count": null,
   "id": "1f5fac6b",
   "metadata": {},
   "outputs": [],
   "source": [
    "# TODO: 중첩 리스트 A와 B 선언\n",
    "A = \n",
    "\n",
    "B = \n",
    "\n",
    "# TODO: A의 행렬식 detA 계산\n",
    "detA = \n",
    "\n",
    "# TODO: A의 역행렬을 계산하여 새로운 중첩리스트 C에 할당\n",
    "C = \n",
    "\n",
    "# TODO: A와 B의 행렬 합을 계산하여 새로운 중첩리스트 D에 할당\n",
    "D = \n",
    "\n",
    "# 참고: A와 B의 행렬곱 계산\n",
    "E = [\n",
    "    [A[0][0] * B[0][0] + A[0][1] * B[1][0], A[0][0] * B[0][1] + A[0][1] * B[1][1]],\n",
    "    [A[1][0] * B[0][0] + A[1][1] * B[1][0], A[1][0] * B[0][1] + A[1][1] * B[1][1]]\n",
    "]\n",
    "\n",
    "# print() 함수를 활용하여 detA, C, D, E를 출력\n",
    "print(detA)\n",
    "print(C)\n",
    "print(D)\n",
    "print(E)"
   ]
  }
 ],
 "metadata": {
  "kernelspec": {
   "display_name": "Python 3",
   "language": "python",
   "name": "python3"
  },
  "language_info": {
   "codemirror_mode": {
    "name": "ipython",
    "version": 3
   },
   "file_extension": ".py",
   "mimetype": "text/x-python",
   "name": "python",
   "nbconvert_exporter": "python",
   "pygments_lexer": "ipython3",
   "version": "3.8.8"
  }
 },
 "nbformat": 4,
 "nbformat_minor": 5
}
