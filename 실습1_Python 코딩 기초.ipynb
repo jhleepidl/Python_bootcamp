{
 "cells": [
  {
   "cell_type": "markdown",
   "id": "cce8f1c4",
   "metadata": {},
   "source": [
    "# Python 코딩 기초 실습\n",
    "References: https://docs.python.org/ko/3.8/tutorial/index.html\n",
    "\n",
    "***Enter***를 입력하면 다음 줄을 작성할 수 있고, ***Shift + Enter***를 입력하여 셀 단위로 코드를 실행할 수 있습니다."
   ]
  },
  {
   "cell_type": "markdown",
   "id": "c87da3a8",
   "metadata": {},
   "source": [
    "## 0. Hello, world! 출력\n",
    "\n",
    "![Hello_world_meme](https://pics.me.me/h-he-hel-omg-first-word-hello-world-programmer-how-programmers-are-39093685.png)\n",
    "\n",
    "- 개발 환경을 제대로 구성하였는지 확인하기 위한 코드\n",
    "- 모든 프로그래밍 언어의 첫 번째 예제 \n",
    "- Python 3 에서는 `print()` 함수를 이용하여 출력"
   ]
  },
  {
   "cell_type": "code",
   "execution_count": null,
   "id": "1d8b8a1f",
   "metadata": {},
   "outputs": [],
   "source": [
    "text = 'Hello, world!'\n",
    "print(text)"
   ]
  },
  {
   "cell_type": "markdown",
   "id": "ba96cf60",
   "metadata": {},
   "source": [
    "## 1. 기본 숫자 연산자\n",
    "- 덧셈: `+`\n",
    "- 뺄셈: `-`\n",
    "- 곱셈: `*`\n",
    "- 나눗셈: `/`\n",
    "- 몫: `//`\n",
    "- 나머지: `%`\n",
    "- 제곱: `**`"
   ]
  },
  {
   "cell_type": "markdown",
   "id": "724484a1",
   "metadata": {},
   "source": [
    "### 덧셈"
   ]
  },
  {
   "cell_type": "code",
   "execution_count": null,
   "id": "6fbe827a",
   "metadata": {},
   "outputs": [],
   "source": [
    "2 + 3"
   ]
  },
  {
   "cell_type": "markdown",
   "id": "2f7d38ce",
   "metadata": {},
   "source": [
    "### 뺄셈"
   ]
  },
  {
   "cell_type": "code",
   "execution_count": null,
   "id": "2c78ac2c",
   "metadata": {},
   "outputs": [],
   "source": [
    "50 - 5"
   ]
  },
  {
   "cell_type": "markdown",
   "id": "dce42ddd",
   "metadata": {},
   "source": [
    "### 곱셈"
   ]
  },
  {
   "cell_type": "code",
   "execution_count": null,
   "id": "655cdd49",
   "metadata": {},
   "outputs": [],
   "source": [
    "5 * 6"
   ]
  },
  {
   "cell_type": "markdown",
   "id": "c3b835fd",
   "metadata": {},
   "source": [
    "### 나눗셈\n",
    "- 나눗셈은 항상 결과가 실수 형태로 나옴"
   ]
  },
  {
   "cell_type": "code",
   "execution_count": null,
   "id": "56e1e748",
   "metadata": {},
   "outputs": [],
   "source": [
    "9 / 3"
   ]
  },
  {
   "cell_type": "code",
   "execution_count": null,
   "id": "dea794e3",
   "metadata": {},
   "outputs": [],
   "source": [
    "9 / 7"
   ]
  },
  {
   "cell_type": "markdown",
   "id": "b9914f1b",
   "metadata": {},
   "source": [
    "### 몫"
   ]
  },
  {
   "cell_type": "code",
   "execution_count": null,
   "id": "850d9c98",
   "metadata": {},
   "outputs": [],
   "source": [
    "9 // 2"
   ]
  },
  {
   "cell_type": "markdown",
   "id": "fcc8d6b6",
   "metadata": {},
   "source": [
    "### 나머지"
   ]
  },
  {
   "cell_type": "code",
   "execution_count": null,
   "id": "e9d6eff7",
   "metadata": {},
   "outputs": [],
   "source": [
    "90 % 7"
   ]
  },
  {
   "cell_type": "markdown",
   "id": "d9b11ec7",
   "metadata": {},
   "source": [
    "### 제곱"
   ]
  },
  {
   "cell_type": "code",
   "execution_count": null,
   "id": "c278370e",
   "metadata": {},
   "outputs": [],
   "source": [
    "11 ** 2"
   ]
  },
  {
   "cell_type": "code",
   "execution_count": null,
   "id": "ba12c91a",
   "metadata": {},
   "outputs": [],
   "source": [
    "9 ** 0.5"
   ]
  },
  {
   "cell_type": "markdown",
   "id": "862f5702",
   "metadata": {},
   "source": [
    "## 2. 변수\n",
    "\n",
    "![Von_Neumann_Architecture](https://raw.githubusercontent.com/jhleepidl/Python_bootcamp/main/von_neumann_architecture.png)\n",
    "<center>폰 노이만 구조</center>\n",
    "\n",
    "- **데이터**를 저장하기 위해 **식별자**(이름)가 할당된 메모리 공간\n",
    "- 프로그램에서 변수는 특정 자료형(숫자, 문자 등) 형태의 데이터를 저장하고 있음\n",
    "\n",
    "### 2-1. 변수의 선언\n",
    "- 등호(`=`) 를 사용하여 변수에 값을 대입할 수 있음\n",
    "- `변수 = 값` 형태로 변수에 값을 할당"
   ]
  },
  {
   "cell_type": "code",
   "execution_count": null,
   "id": "84d06a70",
   "metadata": {},
   "outputs": [],
   "source": [
    "x = 50\n",
    "y = 49\n",
    "print(x, y)"
   ]
  },
  {
   "cell_type": "code",
   "execution_count": null,
   "id": "c113ebf5",
   "metadata": {},
   "outputs": [],
   "source": [
    "z = (x + y) / 2\n",
    "print(z)"
   ]
  },
  {
   "cell_type": "markdown",
   "id": "2deb3c97",
   "metadata": {},
   "source": [
    "### 2-2. 변수명의 조건\n",
    "- 하나 또는 그 이상의 공백이 없는 문자, 숫자, 언더바(`_`)의 조합\n",
    "- 숫자는 가장 처음에 등장할 수 없음\n",
    "- Python에선 대소문자를 구분하기 때문에 `abc` 란 변수와 `Abc` 란 변수는 서로 다름\n",
    "- Python 예약어와 동일한 식별자는 사용 불가\n",
    "    + 예약어: 프로그램 언어에서 사용하는 명령어로 쓰이는 식별자 \n",
    "    + `help('keywords')`를 이용하면 예약어 목록을 확인할 수 있음"
   ]
  },
  {
   "cell_type": "code",
   "execution_count": null,
   "id": "bc428f88",
   "metadata": {},
   "outputs": [],
   "source": [
    "help('keywords')"
   ]
  },
  {
   "cell_type": "markdown",
   "id": "0172304d",
   "metadata": {},
   "source": [
    "### 2-3. 변수명 예시"
   ]
  },
  {
   "cell_type": "code",
   "execution_count": null,
   "id": "f0518c34",
   "metadata": {},
   "outputs": [],
   "source": [
    "account_balance = 2000\n",
    "interest_rate = 0.04\n",
    "years = 3\n",
    "expected_interest = account_balance * interest_rate * years\n",
    "print(expected_interest)"
   ]
  },
  {
   "cell_type": "markdown",
   "id": "84617417",
   "metadata": {},
   "source": [
    "### 2-4. 변수 사용 시 에러가 발생하는 경우"
   ]
  },
  {
   "cell_type": "code",
   "execution_count": null,
   "id": "751e72a4",
   "metadata": {},
   "outputs": [],
   "source": [
    "5x = 250 # Error"
   ]
  },
  {
   "cell_type": "code",
   "execution_count": null,
   "id": "39046058",
   "metadata": {},
   "outputs": [],
   "source": [
    "print(n) #Error: Undefined variable"
   ]
  },
  {
   "cell_type": "code",
   "execution_count": null,
   "id": "b2679959",
   "metadata": {},
   "outputs": [],
   "source": [
    "True = False"
   ]
  },
  {
   "cell_type": "markdown",
   "id": "9a4ab6df",
   "metadata": {},
   "source": [
    "## 3. Python 기초 문법\n",
    "\n",
    "### 3-1. 출력\n",
    "- 내장 함수인 `print()` 함수를 사용\n",
    "- 대화형 모드에서는 그냥 변수명을 적는 것으로 출력 가능"
   ]
  },
  {
   "cell_type": "code",
   "execution_count": null,
   "id": "b4037027",
   "metadata": {},
   "outputs": [],
   "source": [
    "average = 7\n",
    "print(average) # print() 사용"
   ]
  },
  {
   "cell_type": "code",
   "execution_count": null,
   "id": "10d94a29",
   "metadata": {},
   "outputs": [],
   "source": [
    "average # 대화형 모드에서만 사용 가능"
   ]
  },
  {
   "cell_type": "markdown",
   "id": "12d20bc0",
   "metadata": {},
   "source": [
    "### 3-2. 입력\n",
    "- `input()` 함수를 사용하여 키보드로 값을 입력받을 수 있음\n",
    "- Jupyter Notebook에서는 사용할 일이 적음"
   ]
  },
  {
   "cell_type": "code",
   "execution_count": null,
   "id": "8b0f4263",
   "metadata": {},
   "outputs": [],
   "source": [
    "name = input('이름을 입력해주세요: ')\n",
    "print('사용자 이름: ' + name)"
   ]
  },
  {
   "cell_type": "markdown",
   "id": "9c83752c",
   "metadata": {},
   "source": [
    "**주의:** `input()` 함수는 값을 **문자열** 자료형으로 반환하기 때문에, 숫자로 사용하려면 **변환**이 필요함"
   ]
  },
  {
   "cell_type": "code",
   "execution_count": null,
   "id": "ebbc2569",
   "metadata": {},
   "outputs": [],
   "source": [
    "number = input('제곱을 구할 정수를 입력해주세요: ')\n",
    "print(number ** 2) # Error: 문자열(str)은 제곱을 사용할 수 없음"
   ]
  },
  {
   "cell_type": "markdown",
   "id": "2022ba0f",
   "metadata": {},
   "source": [
    "### 3-3. Type casting\n",
    "- 위의 예시에서 볼 수 있듯이, 자료형에 따라 지원하는 연산과 함수가 다름\n",
    "- 자주 사용하는 type casting 예시\n",
    "    + `int(객체)`: 정수 자료형으로 변환된 값을 반환\n",
    "    + `float(객체)`: 실수 자료형으로 변환된 값을 반환\n",
    "    + `str(객체)`: 문자열 자료형으로 변환된 문자를 반환"
   ]
  },
  {
   "cell_type": "code",
   "execution_count": null,
   "id": "99e9cb01",
   "metadata": {},
   "outputs": [],
   "source": [
    "number = input('제곱을 구할 정수를 입력해주세요: ')\n",
    "print(int(number) ** 2) # 정수형으로 변환 후 제곱"
   ]
  },
  {
   "cell_type": "markdown",
   "id": "cd4ce2aa",
   "metadata": {},
   "source": [
    "**주의:** 변수에 Type casting을 해도 변수 자체의 자료형은 바뀌지 않음"
   ]
  },
  {
   "cell_type": "code",
   "execution_count": null,
   "id": "e2383114",
   "metadata": {},
   "outputs": [],
   "source": [
    "number = 3\n",
    "print(float(number))\n",
    "print(number) # 정수 자료형"
   ]
  },
  {
   "cell_type": "code",
   "execution_count": null,
   "id": "e52b7e9f",
   "metadata": {},
   "outputs": [],
   "source": [
    "number = 3\n",
    "number = float(number) # type casting한 값을 다시 변수에 할당\n",
    "print(number)"
   ]
  },
  {
   "cell_type": "markdown",
   "id": "30e9f056",
   "metadata": {},
   "source": [
    "### 3-4. 주석(중요)\n",
    "- 주석(Comment): 프로그램은 인식하지 못하지만 사용자는 볼 수 있는 코드\n",
    "- 올바른 주석을 통해 다른 사람이나 자신이 작성한 코드를 더 쉽게 이해할 수 있음\n",
    "- 코드를 수정할 때에도 주석을 활용하면 더 쉽게 수정할 수 있음\n",
    "- Python에서 주석을 다는 법: 주석으로 처리될 내용 앞에 `#` 입력"
   ]
  },
  {
   "cell_type": "code",
   "execution_count": null,
   "id": "5f5d8978",
   "metadata": {},
   "outputs": [],
   "source": [
    "# 숫자를 입력받아 3으로 나눈 몫과 나머지를 출력하는 코드\n",
    "number = input('정수를 입력해주세요: ') # number에 키보드 입력값을 받음\n",
    "number = int(number) # number를 정수형으로 형변환\n",
    "\n",
    "# TODO: number에 정수가 아닌 값을 입력했을 경우 오류 처리 필요\n",
    "\n",
    "print(number//3, number%3) # 3으로 나눈 몫과 나머지를 출력\n",
    "# TODO: 결과를 더 구조화하여 출력 필요"
   ]
  },
  {
   "cell_type": "markdown",
   "id": "24f68418",
   "metadata": {},
   "source": [
    "## 연습문제 1 - 투자 수익 계산기\n",
    "- 사용자로부터 투자 금액을 입력받아 변수에 저장\n",
    "- 사용자로부터 투자 기간을 입력받아 변수에 저장\n",
    "- 연 수익률 8%를 적용하여 예상 투자 수익 금액을 계산하여 출력\n",
    "\n",
    "![1_입출력예시](https://raw.githubusercontent.com/jhleepidl/Python_bootcamp/main/1_%EC%9E%85%EC%B6%9C%EB%A0%A5%EC%98%88%EC%8B%9C.png)\n",
    "<center> 입출력 예시 </center>"
   ]
  },
  {
   "cell_type": "code",
   "execution_count": null,
   "id": "10b039f9",
   "metadata": {},
   "outputs": [],
   "source": [
    "# 코드 작성\n",
    "# 정답\n",
    "amount = float(input('투자 금액 입력: '))\n",
    "period = float(input('투자 기간 입력: '))\n",
    "\n",
    "revenue = amount * (1.08 ** period) - amount\n",
    "print(revenue)"
   ]
  },
  {
   "cell_type": "markdown",
   "id": "374838aa",
   "metadata": {},
   "source": [
    "## 연습문제 2 - 수치 미분 \n",
    "- 함수: $f(x) = x^3$\n",
    "- 사용자로부터 값을 입력받아 변수 `a`에 저장\n",
    "- x = a 일 때의 미분값을 아래 정의를 사용하여 계산\n",
    "    + Δx를 0으로 수렴시키는 대신 작은 값을 입력 (0.00001)\n",
    "![미분정의](https://wikimedia.org/api/rest_v1/media/math/render/svg/88349812ad8e22727ed7e2f3280a5b6b8e970ef6)\n",
    "- 실제 미분값과 비교: $f'(a) = 3a^2$\n",
    "\n",
    "![2_입출력예시](https://raw.githubusercontent.com/jhleepidl/Python_bootcamp/main/2_%EC%9E%85%EC%B6%9C%EB%A0%A5%EC%98%88%EC%8B%9C.png)\n",
    "<center> 입출력 예시 </center>"
   ]
  },
  {
   "cell_type": "code",
   "execution_count": null,
   "id": "79a4a140",
   "metadata": {},
   "outputs": [],
   "source": [
    "# 코드 작성\n",
    "# 정답\n",
    "a = float(input('a 값을 입력해주세요: '))\n",
    "delta_x = 0.00001\n",
    "\n",
    "diff_value = ((a + delta_x) ** 3 - a ** 3) / delta_x\n",
    "print(diff_value)\n",
    "print(3 * a ** 2)"
   ]
  }
 ],
 "metadata": {
  "kernelspec": {
   "display_name": "Python 3",
   "language": "python",
   "name": "python3"
  },
  "language_info": {
   "codemirror_mode": {
    "name": "ipython",
    "version": 3
   },
   "file_extension": ".py",
   "mimetype": "text/x-python",
   "name": "python",
   "nbconvert_exporter": "python",
   "pygments_lexer": "ipython3",
   "version": "3.8.8"
  }
 },
 "nbformat": 4,
 "nbformat_minor": 5
}
