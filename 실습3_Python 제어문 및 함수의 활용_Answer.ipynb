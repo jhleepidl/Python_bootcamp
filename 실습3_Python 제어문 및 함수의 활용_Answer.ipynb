{
 "cells": [
  {
   "cell_type": "markdown",
   "id": "cce8f1c4",
   "metadata": {},
   "source": [
    "# Python 제어문 및 함수 활용 실습\n",
    "References\n",
    "- https://docs.python.org/ko/3.8/tutorial/controlflow.html#\n",
    "- https://docs.python.org/ko/3.8/tutorial/controlflow.html#defining-functions\n",
    "- https://wikidocs.net/19\n",
    "- https://wikidocs.net/24\n",
    "- https://wikidocs.net/66\n",
    "- https://en.wikipedia.org/wiki/Matrix_multiplication\n",
    "- https://en.wikipedia.org/wiki/Taylor_series"
   ]
  },
  {
   "cell_type": "markdown",
   "id": "c87da3a8",
   "metadata": {},
   "source": [
    "## 1. Python 제어문\n",
    "\n",
    "### 1-1. 조건문\n",
    "![if_statement](https://raw.githubusercontent.com/jhleepidl/Python_bootcamp/main/if_statement.png)\n",
    "\n",
    "#### if문의 기본 구조\n",
    "\n",
    "```python\n",
    "if 조건:\n",
    "    조건이 True일 경우 실행할 코드\n",
    "else:\n",
    "    조건이 False일 경우 실행할 코드\n",
    "```\n",
    "\n",
    "- `else:`가 없는 경우도 있음 "
   ]
  },
  {
   "cell_type": "code",
   "execution_count": 16,
   "id": "ac8ca5bd",
   "metadata": {},
   "outputs": [
    {
     "name": "stdout",
     "output_type": "stream",
     "text": [
      "이 코드가 출력됩니다.\n"
     ]
    }
   ],
   "source": [
    "if True:\n",
    "    print('이 코드가 출력됩니다.')\n",
    "else:\n",
    "    print('이 코드는 출력되지 않습니다.')"
   ]
  },
  {
   "cell_type": "code",
   "execution_count": 88,
   "id": "299d3100",
   "metadata": {},
   "outputs": [
    {
     "name": "stdout",
     "output_type": "stream",
     "text": [
      "20\n"
     ]
    }
   ],
   "source": [
    "a = 30\n",
    "if a > 10:\n",
    "    a = a - 10\n",
    "print(a)"
   ]
  },
  {
   "cell_type": "markdown",
   "id": "fc96b81d",
   "metadata": {},
   "source": [
    "#### 조건으로 사용되는 것\n",
    "- Boolean 자료형\n",
    "- Boolean 자료형을 반환하는 비교 연산자\n",
    "\n",
    "|**비교 연산자**|**설명**|**예시**|\n",
    "|:---:|:---:|:---:|\n",
    "|x == y|x와 y가 동일하다|(3 == 5) → false|\n",
    "|x != y|x와 y가 동일하지 않다| (3 != 5) → true|\n",
    "|x > y|x가 y보다 크다| (3 > 5) → false|\n",
    "|x < y|x가 y보다 작다| (3 < 5) → true|\n",
    "|x >= y|x가 y보다 크거나 같다| (3 >= 5) → false|\n",
    "|x <= y|x가 y보다 작거나 같다| (3 <= 5) → true|\n",
    "\n",
    "- Boolean 자료형을 반환하는 논리 연산자\n",
    "\n",
    "|**논리 연산자**|**설명**|**예시**|\n",
    "|:---:|:---:|:---:|\n",
    "|x and y|논리 AND 연산, x와 y가 참일때만 참|(True and False) → False|\n",
    "|x or y|논리 OR 연산, x와 y 둘 중 하나만 참이여도 참| (True or False) → True|\n",
    "|not x|논리 NOT 연산, x의 논리 상태를 반전| (not True) → False|"
   ]
  },
  {
   "cell_type": "code",
   "execution_count": 17,
   "id": "66ef365d",
   "metadata": {},
   "outputs": [
    {
     "name": "stdout",
     "output_type": "stream",
     "text": [
      "x와 y는 다르다\n"
     ]
    }
   ],
   "source": [
    "x = 5\n",
    "y = 3\n",
    "if x == y:\n",
    "    print('x와 y는 같다')\n",
    "else:\n",
    "    print('x와 y는 다르다')"
   ]
  },
  {
   "cell_type": "markdown",
   "id": "362f0b69",
   "metadata": {},
   "source": [
    "#### if문 작성시 유의할 점\n",
    "- 들여쓰기 - if 문 다음에 오는 실행할 코드에 들여쓰기를 반드시 해야 함\n",
    "- 공백(Space) 4번 또는 탭(Tab)을 사용하여 들여쓰기 표현\n",
    "- Jypyter Notebook에서는 어느정도 자동으로 들여쓰기를 해줌"
   ]
  },
  {
   "cell_type": "code",
   "execution_count": 23,
   "id": "4370beb7",
   "metadata": {
    "scrolled": false
   },
   "outputs": [
    {
     "ename": "IndentationError",
     "evalue": "expected an indented block (<ipython-input-23-94aabe359d21>, line 2)",
     "output_type": "error",
     "traceback": [
      "\u001b[1;36m  File \u001b[1;32m\"<ipython-input-23-94aabe359d21>\"\u001b[1;36m, line \u001b[1;32m2\u001b[0m\n\u001b[1;33m    print('들여쓰기가 잘못된 경우') #IndentationError: expected an indented block\u001b[0m\n\u001b[1;37m    ^\u001b[0m\n\u001b[1;31mIndentationError\u001b[0m\u001b[1;31m:\u001b[0m expected an indented block\n"
     ]
    }
   ],
   "source": [
    "if True:\n",
    "print('들여쓰기가 잘못된 경우') #IndentationError: expected an indented block\n",
    "else:\n",
    "    print('들여쓰기가 잘 된 경우')"
   ]
  },
  {
   "cell_type": "code",
   "execution_count": 26,
   "id": "1a694f5b",
   "metadata": {},
   "outputs": [
    {
     "ename": "IndentationError",
     "evalue": "unexpected indent (<ipython-input-26-0cb4ba5abf23>, line 4)",
     "output_type": "error",
     "traceback": [
      "\u001b[1;36m  File \u001b[1;32m\"<ipython-input-26-0cb4ba5abf23>\"\u001b[1;36m, line \u001b[1;32m4\u001b[0m\n\u001b[1;33m    print('if문 외부')\u001b[0m\n\u001b[1;37m    ^\u001b[0m\n\u001b[1;31mIndentationError\u001b[0m\u001b[1;31m:\u001b[0m unexpected indent\n"
     ]
    }
   ],
   "source": [
    "if True:\n",
    "    print('if문 내부')\n",
    "print('if문 외부')\n",
    "    print('if문 외부') #IndentationError: unexpected indent"
   ]
  },
  {
   "cell_type": "code",
   "execution_count": 25,
   "id": "7f12442a",
   "metadata": {
    "scrolled": true
   },
   "outputs": [
    {
     "ename": "IndentationError",
     "evalue": "unexpected indent (<ipython-input-25-2aaa3121a85e>, line 3)",
     "output_type": "error",
     "traceback": [
      "\u001b[1;36m  File \u001b[1;32m\"<ipython-input-25-2aaa3121a85e>\"\u001b[1;36m, line \u001b[1;32m3\u001b[0m\n\u001b[1;33m    print('동일해야 함')\u001b[0m\n\u001b[1;37m    ^\u001b[0m\n\u001b[1;31mIndentationError\u001b[0m\u001b[1;31m:\u001b[0m unexpected indent\n"
     ]
    }
   ],
   "source": [
    "if True:\n",
    "    print('같은 단계의 들여쓰기 간격은')\n",
    "        print('동일해야 함') #IndentationError: unexpected indent"
   ]
  },
  {
   "cell_type": "markdown",
   "id": "7112f555",
   "metadata": {},
   "source": [
    "#### if문 예제\n",
    "- score가 90점 이상이면 A, 80점 이상이면 B, 그 외에는 C를 출력하는 코드"
   ]
  },
  {
   "cell_type": "code",
   "execution_count": 28,
   "id": "138074b9",
   "metadata": {},
   "outputs": [
    {
     "name": "stdout",
     "output_type": "stream",
     "text": [
      "B\n"
     ]
    }
   ],
   "source": [
    "score = 85\n",
    "if score >= 90:\n",
    "    print('A')\n",
    "else:\n",
    "    if score >= 80:\n",
    "        print('B')\n",
    "    else:\n",
    "        print('C')"
   ]
  },
  {
   "cell_type": "markdown",
   "id": "0c827d2d",
   "metadata": {},
   "source": [
    "#### elif의 활용\n",
    "![if_statement2](https://raw.githubusercontent.com/jhleepidl/Python_bootcamp/main/if_statement2.png)\n",
    "- `elif`를 사용하여 이중 if 문을 간략하고, 더 알아보기 쉽게 만들 수 있음\n",
    "- 기본 구조\n",
    "\n",
    "```python\n",
    "if 조건1:\n",
    "    조건1이 True일 경우 실행할 코드\n",
    "elif 조건2:\n",
    "    조건1은 False지만 조건2가 True일 경우 실행할 코드\n",
    "elif 조건3:\n",
    "    ...\n",
    "else:\n",
    "    위 조건들이 모두 False일 경우 실행할 코드\n",
    "```"
   ]
  },
  {
   "cell_type": "code",
   "execution_count": 30,
   "id": "f050d3f1",
   "metadata": {},
   "outputs": [
    {
     "name": "stdout",
     "output_type": "stream",
     "text": [
      "B\n"
     ]
    }
   ],
   "source": [
    "score = 85\n",
    "if score >= 90:\n",
    "    print('A')\n",
    "elif score >= 80:\n",
    "    print('B')\n",
    "else:\n",
    "    print('C')"
   ]
  },
  {
   "cell_type": "markdown",
   "id": "5f744d29",
   "metadata": {},
   "source": [
    "#### 조건문 활용 예제 - 윤년\n",
    "- 사용자로부터 연도를 입력받고, 조건문을 사용하여 윤년인지 평년인지 출력\n",
    "![Leap_year](https://wikidocs.net/images/page/88691/leap_year.png)"
   ]
  },
  {
   "cell_type": "code",
   "execution_count": 33,
   "id": "d665c725",
   "metadata": {},
   "outputs": [
    {
     "name": "stdout",
     "output_type": "stream",
     "text": [
      "연도를 입력하세요: 2004\n",
      "윤년\n"
     ]
    }
   ],
   "source": [
    "# 연도를 입력할 변수 year를 선언하고, input() 함수를 사용해 입력받음\n",
    "year = input('연도를 입력하세요: ') # input() 함수는 문자열 형태로 반환함\n",
    "\n",
    "# year를 문자열에서 정수 자료형으로 형변환\n",
    "year = int(year)\n",
    "\n",
    "# 나머지 '%' 연산의 결과가 0이면 False로 인식\n",
    "if year % 4: # 4로 나누어 떨어지지 않으면:\n",
    "    print('평년')\n",
    "elif year % 100: # 100으로 나누어 떨어지지 않으면:\n",
    "    print('윤년')\n",
    "elif year % 400: # 400으로 나누어 떨어지지 않으면:\n",
    "    print('평년')\n",
    "else: # 400으로 나누어 떨어지면\n",
    "    print('윤년')"
   ]
  },
  {
   "cell_type": "markdown",
   "id": "3cd85a14",
   "metadata": {},
   "source": [
    "### 1-2. 반복문: while문\n",
    "![while_loop](https://raw.githubusercontent.com/jhleepidl/Python_bootcamp/main/while_loop.png)\n",
    "\n",
    "#### while문의 기본 구조\n",
    "\n",
    "```python\n",
    "while 조건:\n",
    "    조건이 True일 동안 반복해서 수행할 코드\n",
    "    (보통 조건을 변화시키는 코드가 포함됨)\n",
    "```\n",
    "\n",
    "- 조건문과 마찬가지로 indentation에 주의"
   ]
  },
  {
   "cell_type": "code",
   "execution_count": 43,
   "id": "ee09bcc6",
   "metadata": {},
   "outputs": [
    {
     "name": "stdout",
     "output_type": "stream",
     "text": [
      "5\n",
      "4\n",
      "3\n",
      "2\n",
      "1\n"
     ]
    }
   ],
   "source": [
    "count = 5\n",
    "while count > 0:\n",
    "    print(count)\n",
    "    count = count - 1"
   ]
  },
  {
   "cell_type": "code",
   "execution_count": 46,
   "id": "054acead",
   "metadata": {},
   "outputs": [
    {
     "name": "stdout",
     "output_type": "stream",
     "text": [
      "42\n",
      "439804651.1104\n"
     ]
    }
   ],
   "source": [
    "paper_thick = 0.0001\n",
    "moon_distance = 384000000\n",
    "fold_count = 0\n",
    "while paper_thick < moon_distance:\n",
    "    fold_count = fold_count + 1\n",
    "    paper_thick = paper_thick * 2\n",
    "print(fold_count)\n",
    "print(paper_thick)"
   ]
  },
  {
   "cell_type": "markdown",
   "id": "92decc03",
   "metadata": {},
   "source": [
    "#### 주의: 무한 루프\n",
    "- 순환문을 종료할 수 없는 경우 발생"
   ]
  },
  {
   "cell_type": "code",
   "execution_count": 52,
   "id": "4b3871c9",
   "metadata": {
    "scrolled": true
   },
   "outputs": [
    {
     "ename": "KeyboardInterrupt",
     "evalue": "",
     "output_type": "error",
     "traceback": [
      "\u001b[1;31m---------------------------------------------------------------------------\u001b[0m",
      "\u001b[1;31mKeyboardInterrupt\u001b[0m                         Traceback (most recent call last)",
      "\u001b[1;32m<ipython-input-52-830faaa96a22>\u001b[0m in \u001b[0;36m<module>\u001b[1;34m\u001b[0m\n\u001b[0;32m      2\u001b[0m \u001b[0mi\u001b[0m \u001b[1;33m=\u001b[0m \u001b[1;36m0\u001b[0m\u001b[1;33m\u001b[0m\u001b[1;33m\u001b[0m\u001b[0m\n\u001b[0;32m      3\u001b[0m \u001b[1;32mwhile\u001b[0m \u001b[1;32mTrue\u001b[0m\u001b[1;33m:\u001b[0m\u001b[1;33m\u001b[0m\u001b[1;33m\u001b[0m\u001b[0m\n\u001b[1;32m----> 4\u001b[1;33m     \u001b[0mi\u001b[0m \u001b[1;33m=\u001b[0m \u001b[0mi\u001b[0m \u001b[1;33m+\u001b[0m \u001b[1;36m1\u001b[0m\u001b[1;33m\u001b[0m\u001b[1;33m\u001b[0m\u001b[0m\n\u001b[0m",
      "\u001b[1;31mKeyboardInterrupt\u001b[0m: "
     ]
    }
   ],
   "source": [
    "# 주의: 이 코드 실행시 무한루프 발생\n",
    "# 키보드에서 i 키를 두 번 누르거나,\n",
    "# jupyter notebook 상단의 네모 버튼 (interrupt the kernel) 을 눌러 무한루프를 종료할 것\n",
    "i = 0\n",
    "while True:\n",
    "    i = i + 1"
   ]
  },
  {
   "cell_type": "code",
   "execution_count": 53,
   "id": "91586821",
   "metadata": {},
   "outputs": [
    {
     "name": "stdout",
     "output_type": "stream",
     "text": [
      "12625634\n"
     ]
    }
   ],
   "source": [
    "print(i)"
   ]
  },
  {
   "cell_type": "markdown",
   "id": "8561869b",
   "metadata": {},
   "source": [
    "#### while문을 강제로 빠져나가는 법: `break`\n",
    "- while문 내에서 `break`를 이용하면 반복을 멈추고 빠져나올 수 있음\n",
    "\n",
    "```python\n",
    "while 반복문:\n",
    "    코드 A\n",
    "    if 조건:\n",
    "        ...\n",
    "        break # 코드 C 로 이동\n",
    "        ...\n",
    "    코드 B\n",
    "코드 C\n",
    "```"
   ]
  },
  {
   "cell_type": "code",
   "execution_count": 49,
   "id": "3bf85b03",
   "metadata": {},
   "outputs": [
    {
     "name": "stdout",
     "output_type": "stream",
     "text": [
      "504\n"
     ]
    }
   ],
   "source": [
    "# 세 정수의 최소공배수를 구하는 코드\n",
    "i = 1\n",
    "a = 36\n",
    "b = 42\n",
    "c = 56\n",
    "while True:\n",
    "    if (i % a == 0) and (i % b == 0) and (i % c == 0): # i가 a, b, c 세 수로 모두 나누어떨어진다면\n",
    "        print(i) # i를 출력하고\n",
    "        break # while문에서 빠져나감\n",
    "    else:\n",
    "        i = i + 1 # i가 나누어떨어지지 않으면 i를 1 증가시킴"
   ]
  },
  {
   "cell_type": "markdown",
   "id": "5f3dddc7",
   "metadata": {},
   "source": [
    "#### while문을 계속 실행하는 법: `continue`\n",
    "- while문 내에서 `continue`를 이용하면 while문의 첫 부분으로 돌아갈 수 있음\n",
    "\n",
    "```python\n",
    "while 반복문:\n",
    "    코드 A\n",
    "    if 조건:\n",
    "        ...\n",
    "        continue # while 반복문의 조건 체크 후, 코드 A로 이동\n",
    "        ...\n",
    "    코드 B\n",
    "코드 C\n",
    "```"
   ]
  },
  {
   "cell_type": "code",
   "execution_count": 57,
   "id": "7da0e175",
   "metadata": {},
   "outputs": [
    {
     "name": "stdout",
     "output_type": "stream",
     "text": [
      "1\n",
      "3\n",
      "5\n",
      "7\n",
      "9\n"
     ]
    }
   ],
   "source": [
    "# 1부터 10까지 숫자 중 홀수만 출력하는 코드\n",
    "i = 0\n",
    "while i < 10: \n",
    "    i = i + 1\n",
    "    if i % 2 == 0:\n",
    "        continue\n",
    "    print(i)"
   ]
  },
  {
   "cell_type": "markdown",
   "id": "6682ecb4",
   "metadata": {},
   "source": [
    "### 1-3. 반복문: for문\n",
    "- for문의 기본 구조\n",
    "\n",
    "```python\n",
    "for 변수 in 리스트:\n",
    "    반복 실행할 문장\n",
    "```\n",
    "\n",
    "- indentation에 주의"
   ]
  },
  {
   "cell_type": "code",
   "execution_count": 58,
   "id": "1ee24b45",
   "metadata": {},
   "outputs": [
    {
     "name": "stdout",
     "output_type": "stream",
     "text": [
      "31\n"
     ]
    }
   ],
   "source": [
    "list_A = [1, 2, 4, 8, 16]\n",
    "sum = 0\n",
    "for x in list_A:\n",
    "    sum = sum + x\n",
    "print(sum)"
   ]
  },
  {
   "cell_type": "code",
   "execution_count": 59,
   "id": "fa733bff",
   "metadata": {},
   "outputs": [
    {
     "name": "stdout",
     "output_type": "stream",
     "text": [
      "1\n",
      "2\n",
      "3\n",
      "4\n",
      "5\n",
      "6\n",
      "7\n",
      "8\n",
      "9\n",
      "10\n",
      "11\n",
      "12\n"
     ]
    }
   ],
   "source": [
    "matrix = [\n",
    "    [1, 2, 3, 4],\n",
    "    [5, 6, 7, 8],\n",
    "    [9, 10, 11, 12] \n",
    "]\n",
    "for row in matrix:\n",
    "    for i in row:\n",
    "        print(i)"
   ]
  },
  {
   "cell_type": "markdown",
   "id": "09430cb6",
   "metadata": {},
   "source": [
    "#### for문에서도 `break`와 `continue`를 사용하여 반복문의 흐름을 제어할 수 있음"
   ]
  },
  {
   "cell_type": "code",
   "execution_count": 61,
   "id": "b34dbde3",
   "metadata": {
    "scrolled": true
   },
   "outputs": [
    {
     "name": "stdout",
     "output_type": "stream",
     "text": [
      "pass\n",
      "pass\n",
      "pass\n",
      "skip\n",
      "skip\n",
      "pass\n",
      "for문 종료\n",
      "290\n"
     ]
    }
   ],
   "source": [
    "# score가 50 이상이면 pass를 출력하고 점수를 합산, 50 아래면 skip, score가 음수면 for문을 종료\n",
    "score_list = [50, 70, 90, 45, 35, 80, -1, 40, 95]\n",
    "sum = 0\n",
    "for i in score_list:\n",
    "    if i < 0:\n",
    "        print('for문 종료')\n",
    "        break\n",
    "    elif i < 50:\n",
    "        print('skip')\n",
    "        continue\n",
    "    else:\n",
    "        sum = sum + i\n",
    "        print('pass')\n",
    "print(sum)"
   ]
  },
  {
   "cell_type": "markdown",
   "id": "438a2dde",
   "metadata": {},
   "source": [
    "#### `range()` 함수를 이용한 for문\n",
    "\n",
    "- `range(정수 x)`를 이용하여 0부터 x 미만의 숫자를 포함하는 range 객체를 생성할 수 있음\n",
    "- 이를 이용하여 특정 횟수만큼 반복하는 for문을 생성 가능"
   ]
  },
  {
   "cell_type": "code",
   "execution_count": 68,
   "id": "27370cd8",
   "metadata": {},
   "outputs": [
    {
     "name": "stdout",
     "output_type": "stream",
     "text": [
      "0\n",
      "1\n",
      "2\n",
      "3\n",
      "4\n",
      "5\n",
      "6\n",
      "7\n",
      "8\n",
      "9\n"
     ]
    }
   ],
   "source": [
    "for i in range(10):\n",
    "    print(i)"
   ]
  },
  {
   "cell_type": "markdown",
   "id": "79d4a190",
   "metadata": {},
   "source": [
    "- `range(a, b)`를 사용하여 정수 a부터 b 미만의 숫자를 포함하는 객체 생성 가능"
   ]
  },
  {
   "cell_type": "code",
   "execution_count": 67,
   "id": "4822a953",
   "metadata": {},
   "outputs": [
    {
     "name": "stdout",
     "output_type": "stream",
     "text": [
      "55\n"
     ]
    }
   ],
   "source": [
    "sum = 0\n",
    "for i in range(1, 11):\n",
    "    sum = sum + i\n",
    "print(sum)"
   ]
  },
  {
   "cell_type": "markdown",
   "id": "162096e1",
   "metadata": {},
   "source": [
    "#### for문 활용 예제 - 행렬의 곱\n",
    "\n",
    "$\\mathbf{A}, \\mathbf{B}$를 각각 $m \\times n, n \\times p$ 행렬이라고 할 때,\n",
    "\n",
    "$\n",
    "\\mathbf{A}=\\begin{pmatrix}\n",
    " a_{11} & a_{12} & \\cdots & a_{1n} \\\\\n",
    " a_{21} & a_{22} & \\cdots & a_{2n} \\\\\n",
    "\\vdots & \\vdots & \\ddots & \\vdots \\\\\n",
    " a_{m1} & a_{m2} & \\cdots & a_{mn} \\\\\n",
    "\\end{pmatrix},\n",
    "\\quad\\mathbf{B}=\\begin{pmatrix}\n",
    " b_{11} & b_{12} & \\cdots & b_{1p} \\\\\n",
    " b_{21} & b_{22} & \\cdots & b_{2p} \\\\\n",
    "\\vdots & \\vdots & \\ddots & \\vdots \\\\\n",
    " b_{n1} & b_{n2} & \\cdots & b_{np} \\\\\n",
    "\\end{pmatrix}\n",
    "$\n",
    "\n",
    "이 때, 행렬곱 $\\mathbf{C} = \\mathbf{AB}$는 다음의 $m \\times p$ 행렬로 정의된다.\n",
    "\n",
    "$\n",
    "\\mathbf{C}=\\begin{pmatrix}\n",
    " c_{11} & c_{12} & \\cdots & c_{1p} \\\\\n",
    " c_{21} & c_{22} & \\cdots & c_{2p} \\\\\n",
    "\\vdots & \\vdots & \\ddots & \\vdots \\\\\n",
    " c_{m1} & c_{m2} & \\cdots & c_{mp} \\\\\n",
    "\\end{pmatrix}\n",
    "$\n",
    "\n",
    "$c_{ij} = a_{i1}b_{1j} + a_{i2}b_{2j} +\\cdots + a_{in}b_{nj}= \\sum_{k=1}^n a_{ik}b_{kj}$\n",
    "\n",
    "이를 for문으로 표현하면 아래와 같다."
   ]
  },
  {
   "cell_type": "code",
   "execution_count": 69,
   "id": "e36c78a6",
   "metadata": {},
   "outputs": [
    {
     "name": "stdout",
     "output_type": "stream",
     "text": [
      "[[67, 41, -10, 81], [40, 30, 114, 68], [38, 34, 138, 76]]\n"
     ]
    }
   ],
   "source": [
    "# 3x3 matrix\n",
    "A = [\n",
    "    [3, 15, 2],\n",
    "    [4, 3, 12],\n",
    "    [6, 1, 14]\n",
    "]\n",
    "\n",
    "# 3x4 matrix\n",
    "B = [\n",
    "    [1, 3, 0, 5],\n",
    "    [4, 2, -2, 4],\n",
    "    [2, 1, 10, 3]\n",
    "]\n",
    "\n",
    "# 결과를 저장할 3x4 matrix\n",
    "C = [\n",
    "    [0, 0, 0, 0],\n",
    "    [0, 0, 0, 0],\n",
    "    [0, 0, 0, 0]\n",
    "]\n",
    "\n",
    "# for문과 range 함수를 사용하여 C의 각 원소들을 계산\n",
    "for i in range(len(A)): # A의 행들에 대하여 반복\n",
    "    for j in range(len(B[0])): # B의 열들에 대하여 반복\n",
    "        for k in range(len(B)): # B의 행들에 대하여 반복\n",
    "            C[i][j] += A[i][k] * B[k][j]\n",
    "            \n",
    "print(C)"
   ]
  },
  {
   "cell_type": "markdown",
   "id": "b1dd2440",
   "metadata": {},
   "source": [
    "## 연습문제 1 - 테일러 급수를 활용한 원주율 $\\pi$ 근사하기\n",
    "\n",
    "- 아래의 테일러 급수를 활용하여 원주율 $\\pi$를 계산\n",
    "\n",
    "$ \\arctan x=\\int_0^x \\frac{\\mathrm{d}t}{1+t^2} = \\int_0^x \\sum_{n=0}^\\infty \\left(-t^2 \\right)^n \\mathrm{d}t = \\sum_{n=0}^\\infty \\frac{(-1)^n x^{2n+1}}{2n+1}  = x - \\frac{x^3}3 + \\frac{x^5}5 - \\frac{x^7}7 + \\cdots\\cdots \\ (|x| \\le 1) $\n",
    "\n",
    "- $ \\arctan 1=\\dfrac \\pi4 $를 이용\n",
    "\n",
    "$ \\frac \\pi4 = \\sum_{n=0}^\\infty \\frac{\\left(-1\\right)^n}{2n+1} = 1 - \\frac{1}{3} + \\frac{1}{5} - \\frac{1}{7} + \\cdots\\cdots $\n",
    "\n",
    "- 단, 반복 횟수는 100,000회로 제한\n",
    "\n",
    "$ \\pi = 4 \\times \\sum_{n=0}^{100000} \\frac{\\left(-1\\right)^n}{2n+1} $"
   ]
  },
  {
   "cell_type": "code",
   "execution_count": 76,
   "id": "6d9c32e6",
   "metadata": {},
   "outputs": [
    {
     "name": "stdout",
     "output_type": "stream",
     "text": [
      "3.1415826535897198\n"
     ]
    }
   ],
   "source": [
    "# pi/4 를 계산할 변수 sum 초기화\n",
    "sum = 0.0\n",
    "\n",
    "# 100000회 반복하는 for 문 선언\n",
    "for i in range (0, 100000):\n",
    "    # sum에 i 번째 계산값을 더함\n",
    "    sum = sum + (-1) ** i/(2 * i + 1)\n",
    "\n",
    "# sum에 4를 곱하여 출력\n",
    "print(4 * sum)"
   ]
  },
  {
   "cell_type": "markdown",
   "id": "32256f8f",
   "metadata": {},
   "source": [
    "#### 수렴 속도가 빠른 공식을 활용한 원주율 근사\n",
    "- 참고: https://en.wikipedia.org/wiki/Machin-like_formula\n",
    "- $\\frac{\\pi}{4} = 4 \\arctan \\frac{1}{5} - \\arctan \\frac{1}{239}$ 를 활용"
   ]
  },
  {
   "cell_type": "code",
   "execution_count": 75,
   "id": "38a91954",
   "metadata": {},
   "outputs": [
    {
     "name": "stdout",
     "output_type": "stream",
     "text": [
      "3.141592653589794\n"
     ]
    }
   ],
   "source": [
    "sum1 = 0.0\n",
    "sum2 = 0.0\n",
    "for i in range(100000):\n",
    "    sum1 = sum1 + (-1) ** i * (1/5) ** (2 * i + 1)/(2 * i + 1)\n",
    "    sum2 = sum2 + (-1) ** i * (1/239) ** (2 * i + 1)/(2 * i + 1)\n",
    "print(4 * (4 * sum1 - sum2))"
   ]
  },
  {
   "cell_type": "markdown",
   "id": "6e9be547",
   "metadata": {},
   "source": [
    "## 2. 함수\n",
    "![function](https://raw.githubusercontent.com/jhleepidl/Python_bootcamp/main/function.png)\n",
    "\n",
    "- 코드의 재사용성을 위하여 반복되는 코드를 불러와서 쓰기 편하도록 만든 것\n",
    "\n",
    "### 2-1. 함수의 정의\n",
    "\n",
    "- 함수는 함수명과 매개변수, 함수의 주요 동작을 설명하는 코드, 그리고 반환값으로 이루어짐\n",
    "\n",
    "```python\n",
    "def 함수명(매개변수):\n",
    "    동작 코드\n",
    "    return 반환값\n",
    "```\n",
    "\n",
    "- 매개변수나 반환값이 없는 함수도 존재\n",
    "- 마찬가지로 indentation에 유의"
   ]
  },
  {
   "cell_type": "code",
   "execution_count": 78,
   "id": "a67a9637",
   "metadata": {},
   "outputs": [],
   "source": [
    "def add(a, b):\n",
    "    return a + b"
   ]
  },
  {
   "cell_type": "markdown",
   "id": "78e48c6c",
   "metadata": {},
   "source": [
    "### 2-2. 함수의 사용\n",
    "- 함수가 선언되면, 함수의 이름을 통해 선언한 함수를 사용할 수 있음\n",
    "- 함수에 전달하고자 하는 인수를 괄호 내부에 입력하여 반환값을 얻을 수 있음\n",
    "\n",
    "```python\n",
    "반환값을 저장할 변수 = 함수명(인수)\n",
    "```\n",
    "- 함수 호출시 함수 선언에 사용한 매개변수의 수와 인수의 수가 같아야 함에 유의"
   ]
  },
  {
   "cell_type": "code",
   "execution_count": 84,
   "id": "221f5357",
   "metadata": {},
   "outputs": [
    {
     "name": "stdout",
     "output_type": "stream",
     "text": [
      "8\n",
      "6\n"
     ]
    }
   ],
   "source": [
    "x = add(3, 5)\n",
    "print(x)\n",
    "print(add(2, 4))"
   ]
  },
  {
   "cell_type": "code",
   "execution_count": 83,
   "id": "0495f752",
   "metadata": {},
   "outputs": [
    {
     "name": "stdout",
     "output_type": "stream",
     "text": [
      "60\n"
     ]
    }
   ],
   "source": [
    "x = add(add(10, 20), 30)\n",
    "print(x)"
   ]
  },
  {
   "cell_type": "code",
   "execution_count": 80,
   "id": "f35fd30e",
   "metadata": {
    "scrolled": true
   },
   "outputs": [
    {
     "ename": "TypeError",
     "evalue": "add() missing 1 required positional argument: 'b'",
     "output_type": "error",
     "traceback": [
      "\u001b[1;31m---------------------------------------------------------------------------\u001b[0m",
      "\u001b[1;31mTypeError\u001b[0m                                 Traceback (most recent call last)",
      "\u001b[1;32m<ipython-input-80-7b20dd6ab3d5>\u001b[0m in \u001b[0;36m<module>\u001b[1;34m\u001b[0m\n\u001b[1;32m----> 1\u001b[1;33m \u001b[0mx\u001b[0m \u001b[1;33m=\u001b[0m \u001b[0madd\u001b[0m\u001b[1;33m(\u001b[0m\u001b[1;36m3\u001b[0m\u001b[1;33m)\u001b[0m\u001b[1;33m\u001b[0m\u001b[1;33m\u001b[0m\u001b[0m\n\u001b[0m",
      "\u001b[1;31mTypeError\u001b[0m: add() missing 1 required positional argument: 'b'"
     ]
    }
   ],
   "source": [
    "x = add(3) # TypeError: missing 1 required argument"
   ]
  },
  {
   "cell_type": "code",
   "execution_count": 81,
   "id": "ec7e6f64",
   "metadata": {
    "scrolled": true
   },
   "outputs": [
    {
     "ename": "TypeError",
     "evalue": "add() takes 2 positional arguments but 3 were given",
     "output_type": "error",
     "traceback": [
      "\u001b[1;31m---------------------------------------------------------------------------\u001b[0m",
      "\u001b[1;31mTypeError\u001b[0m                                 Traceback (most recent call last)",
      "\u001b[1;32m<ipython-input-81-1279f0e20c33>\u001b[0m in \u001b[0;36m<module>\u001b[1;34m\u001b[0m\n\u001b[1;32m----> 1\u001b[1;33m \u001b[0mx\u001b[0m \u001b[1;33m=\u001b[0m \u001b[0madd\u001b[0m\u001b[1;33m(\u001b[0m\u001b[1;36m3\u001b[0m\u001b[1;33m,\u001b[0m \u001b[1;36m5\u001b[0m\u001b[1;33m,\u001b[0m \u001b[1;36m7\u001b[0m\u001b[1;33m)\u001b[0m\u001b[1;33m\u001b[0m\u001b[1;33m\u001b[0m\u001b[0m\n\u001b[0m",
      "\u001b[1;31mTypeError\u001b[0m: add() takes 2 positional arguments but 3 were given"
     ]
    }
   ],
   "source": [
    "x = add(3, 5, 7) # TypeError: function takes 2 positional arguments but 3 were given"
   ]
  },
  {
   "cell_type": "markdown",
   "id": "3d69e746",
   "metadata": {},
   "source": [
    "### 2-3. 매개변수나 반환값이 없는 함수\n",
    "- 매개변수가 없는 함수는 다음과 같이 선언되고, 사용됨\n",
    "\n",
    "```python\n",
    "def 함수명():\n",
    "    동작코드\n",
    "    return 반환값\n",
    "\n",
    "반환값을 저장할 변수 = 함수명()\n",
    "```\n",
    "- 반환값이 없는 함수는 다음과 같이 선언되고, 사용됨\n",
    "\n",
    "```python\n",
    "def 함수명(매개변수):\n",
    "    동작코드\n",
    "\n",
    "함수명(인수)\n",
    "```\n",
    "\n",
    "- 매개변수와 반환값 모두 없는 함수의 선언과 사용\n",
    "\n",
    "```python\n",
    "def 함수명():\n",
    "    동작코드\n",
    "\n",
    "함수명()\n",
    "```"
   ]
  },
  {
   "cell_type": "code",
   "execution_count": 85,
   "id": "acf870a0",
   "metadata": {},
   "outputs": [
    {
     "name": "stdout",
     "output_type": "stream",
     "text": [
      "Some string\n"
     ]
    }
   ],
   "source": [
    "# 매개변수가 없는 함수\n",
    "def getString():\n",
    "    return 'Some string'\n",
    "\n",
    "print(getString())"
   ]
  },
  {
   "cell_type": "code",
   "execution_count": 86,
   "id": "8ace05b1",
   "metadata": {
    "scrolled": true
   },
   "outputs": [
    {
     "name": "stdout",
     "output_type": "stream",
     "text": [
      "24\n"
     ]
    }
   ],
   "source": [
    "# 반환값이 없는 함수\n",
    "def printProduct(a, b):\n",
    "    print(a * b)\n",
    "    \n",
    "printProduct(4, 6)"
   ]
  },
  {
   "cell_type": "code",
   "execution_count": 87,
   "id": "876b891a",
   "metadata": {},
   "outputs": [
    {
     "name": "stdout",
     "output_type": "stream",
     "text": [
      "Hello\n"
     ]
    }
   ],
   "source": [
    "# 매개변수와 반환값이 없는 함수\n",
    "def printHello():\n",
    "    print('Hello')\n",
    "    \n",
    "printHello()"
   ]
  },
  {
   "cell_type": "markdown",
   "id": "150d3c8f",
   "metadata": {},
   "source": [
    "### 2-4. 재귀함수\n",
    "- 함수 내부에서 자기 자신을 호출하는 함수\n",
    "- 보통 종료 조건을 통해 함수 호출을 중단하고 빠져나올 수 있게 작성함\n",
    "- 보통 아래의 형태이나, 다양하게 구현할 수 있음\n",
    "\n",
    "```python\n",
    "def 재귀함수(매개변수):\n",
    "    if 종료조건:\n",
    "        return 반환값\n",
    "    return 재귀함수(다음 호출에 쓸 매개변수)\n",
    "```\n",
    "\n",
    "- 점화식을 표현하기 좋은 방법"
   ]
  },
  {
   "cell_type": "code",
   "execution_count": 89,
   "id": "1077c196",
   "metadata": {
    "scrolled": true
   },
   "outputs": [
    {
     "name": "stdout",
     "output_type": "stream",
     "text": [
      "10\n",
      "9\n",
      "8\n",
      "7\n",
      "6\n",
      "5\n",
      "4\n",
      "3\n",
      "2\n",
      "1\n",
      "카운트 완료\n"
     ]
    }
   ],
   "source": [
    "def countDown(count):\n",
    "    if count == 0:\n",
    "        print('카운트 완료')\n",
    "        return\n",
    "    print(count)\n",
    "    return countDown(count - 1) # 자기 자신 호출\n",
    "\n",
    "countDown(10)"
   ]
  },
  {
   "cell_type": "markdown",
   "id": "84795d68",
   "metadata": {},
   "source": [
    "#### 재귀함수 활용 예제 - Factorial 함수 구현\n",
    "- 반복문으로 구현이 가능하지만, 재귀함수를 사용해서 선언할 수도 있음\n",
    "- $ x! = x \\times (x - 1)! $\n",
    "- 종료 조건으로 $ x = 0 $ 일 때 1을 return"
   ]
  },
  {
   "cell_type": "code",
   "execution_count": 90,
   "id": "7eecd7dd",
   "metadata": {},
   "outputs": [
    {
     "name": "stdout",
     "output_type": "stream",
     "text": [
      "720\n"
     ]
    }
   ],
   "source": [
    "# Factorial 함수 예제\n",
    "def factorial(x):\n",
    "    if x == 0: # 종료 조건\n",
    "        return 1\n",
    "    return x * factorial(x - 1) # 자기 자신 호출 \n",
    "\n",
    "print(factorial(6))"
   ]
  },
  {
   "cell_type": "markdown",
   "id": "2a9209f9",
   "metadata": {},
   "source": [
    "#### 위의 factorial 함수를 이용하여 자연로그의 밑 $ e $ 를 테일러 급수를 활용해 계산할 수 있음\n",
    "- 연습문제 1 활용\n",
    "- 빠르게 수렴하기 때문에, 반복횟수는 작아도 됨 (ex: 100)"
   ]
  },
  {
   "cell_type": "code",
   "execution_count": 91,
   "id": "a19f4fc5",
   "metadata": {},
   "outputs": [
    {
     "name": "stdout",
     "output_type": "stream",
     "text": [
      "2.7182818284590455\n"
     ]
    }
   ],
   "source": [
    "e = 0.0\n",
    "for i in range(100):\n",
    "    e = e + 1 / factorial(i)\n",
    "print(e)"
   ]
  },
  {
   "cell_type": "markdown",
   "id": "83456a7a",
   "metadata": {},
   "source": [
    "## 연습문제 2 - Netwon's Method\n",
    "![Newton's_Method](https://upload.wikimedia.org/wikipedia/commons/e/e0/NewtonIteration_Ani.gif)\n",
    "- https://en.wikipedia.org/wiki/Newton%27s_method\n",
    "- $ f(x) = 2 x^5 + x^4 + 6 x^3 - 6 x^2 - 27$ 의 해를 찾기\n",
    "- 도함수는 $ f'(x) = 10 x^4 + 4 x^3 + 18 x^2 - 12 x $ 사용\n",
    "- $ x_{n+1} = x_n - \\frac{f(x_n)}{f'(x_n)} $ 를 재귀함수로 구현\n",
    "- 재귀함수 내의 종료조건은 $ \\frac{f(x_n)}{f'(x_n)} $ 이 0.00000001보다 작으면 종료되는 것으로 함\n",
    "- 해를 구하여 print하고, $ f(x) $ 에 대입하여 해가 맞는지 확인"
   ]
  },
  {
   "cell_type": "code",
   "execution_count": 109,
   "id": "5ad8ee5c",
   "metadata": {},
   "outputs": [
    {
     "name": "stdout",
     "output_type": "stream",
     "text": [
      "1.500000000003415\n",
      "2.958273626063601e-10\n"
     ]
    }
   ],
   "source": [
    "# 함수 f(x), f'(x) 정의\n",
    "def function(x):\n",
    "    return 2 * x ** 5 + x ** 4 + 6 * x ** 3 - 6 * x ** 2 - 27\n",
    "\n",
    "def derivative(x):\n",
    "    return 10 * x ** 4 + 4 * x ** 3 + 18 * x ** 2 - 12 * x\n",
    "\n",
    "# 재귀함수 newton(x) 정의\n",
    "def newton(x):\n",
    "    # f(x)/f'(x) 계산하여 변수 diff에 할당 \n",
    "    diff = function(x) / derivative(x)\n",
    "    # 종료조건: diff가 0.00000001보다 작아질 때\n",
    "    if (diff < 0.00000001):\n",
    "        return x\n",
    "    # 재귀함수 호출\n",
    "    return newton(x - diff)\n",
    "    \n",
    "# 결과값 확인\n",
    "root = newton(4.0)\n",
    "print(root)\n",
    "print(function(root))"
   ]
  },
  {
   "cell_type": "markdown",
   "id": "7cf54ba7",
   "metadata": {},
   "source": [
    "#### 참고: while문으로 구현한 Newton's Method"
   ]
  },
  {
   "cell_type": "code",
   "execution_count": 112,
   "id": "acd4b60f",
   "metadata": {},
   "outputs": [
    {
     "name": "stdout",
     "output_type": "stream",
     "text": [
      "1.5\n",
      "0.0\n"
     ]
    }
   ],
   "source": [
    "# 함수 f(x), f'(x) 정의\n",
    "def function(x):\n",
    "    return 2 * x ** 5 + x ** 4 + 6 * x ** 3 - 6 * x ** 2 - 27\n",
    "\n",
    "def derivative(x):\n",
    "    return 10 * x ** 4 + 4 * x ** 3 + 18 * x ** 2 - 12 * x\n",
    "\n",
    "# diff를 적당히 큰 숫자로 선언, x의 초기값 4 선언\n",
    "diff = 100\n",
    "root = 4\n",
    "\n",
    "# 재귀함수 newton(x) 정의\n",
    "while diff >= 0.00000001: # 종료조건: diff가 0.00000001보다 작아질 때\n",
    "    # f(x)/f'(x) 계산하여 변수 diff에 할당 \n",
    "    diff = function(root) / derivative(root)\n",
    "    # x_n+1 = x_n - diff\n",
    "    root = root - diff\n",
    "    \n",
    "# 결과값 확인\n",
    "print(root)\n",
    "print(function(root))"
   ]
  }
 ],
 "metadata": {
  "kernelspec": {
   "display_name": "Python 3",
   "language": "python",
   "name": "python3"
  },
  "language_info": {
   "codemirror_mode": {
    "name": "ipython",
    "version": 3
   },
   "file_extension": ".py",
   "mimetype": "text/x-python",
   "name": "python",
   "nbconvert_exporter": "python",
   "pygments_lexer": "ipython3",
   "version": "3.8.8"
  }
 },
 "nbformat": 4,
 "nbformat_minor": 5
}
