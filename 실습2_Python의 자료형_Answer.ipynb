{
 "cells": [
  {
   "cell_type": "markdown",
   "id": "cce8f1c4",
   "metadata": {},
   "source": [
    "# Python의 자료형 실습\n",
    "References\n",
    "- https://docs.python.org/ko/3.8/tutorial/introduction.html#strings\n",
    "- https://docs.python.org/ko/3.8/tutorial/controlflow.html#defining-functions\n",
    "- https://docs.python.org/ko/3.8/tutorial/introduction.html#lists\n",
    "- https://wikidocs.net/13\n",
    "- https://wikidocs.net/14"
   ]
  },
  {
   "cell_type": "markdown",
   "id": "c87da3a8",
   "metadata": {},
   "source": [
    "## 1. Python의 기본 자료형\n",
    "\n",
    "### 1-1. Integer Type (정수형)\n",
    "- 소수점이 없는 정수\n",
    "- 예) `123`, `-246`, `0`\n",
    "\n",
    "### 1-2. Floating-point Type (실수형)\n",
    "- 소수점이 포함된 숫자\n",
    "- 예) `123.45`, `-4.6`, `.75`, `0.0`, `3.4e4`($=3.4 * 10^4$)\n",
    "\n",
    "#### Recap: 숫자 자료형 연산자\n",
    "- 덧셈: `+`\n",
    "- 뺄셈: `-`\n",
    "- 곱셈: `*`\n",
    "- 나눗셈: `/`\n",
    "- 몫: `//`\n",
    "- 나머지: `%`\n",
    "- 제곱: `**`\n",
    "\n",
    "#### 숫자 자료형 연산의 특징\n",
    "- 숫자 중 하나라도 실수면 결과는 실수\n",
    "- 연산자 우선 순위\n",
    "    1. 괄호 `()`\n",
    "    2. 지수 `**`\n",
    "    3. 곱셈, 나눗셈 `*`, `/`\n",
    "    4. 덧셈, 뺄셈 `+`. `-`\n",
    "    \n",
    "#### Assignment Operator (할당 연산자)\n",
    "- 변수에 값을 할당할 때 사용\n",
    "\n",
    "|**할당 연산자**|**설명**|**예시**|\n",
    "|:---:|:---:|:---:|\n",
    "|x = y|x에 y의 값을 할당| x = 3 → x = 3|\n",
    "|x += y|x와 y를 더한 값을 x에 할당| x += 3 → x = x + 3|\n",
    "|x -= y|x에서 y를 뺀 값을 x에 할당| x -= 3 → x = x - 3|\n",
    "|x &#42;= y|x와 y를 곱한 값을 x에 할당| x &#42;= 3 → x = x &#42; 3|\n",
    "|x /= y|x를 y로 나눈 값을 x에 할당| x /= 3 → x = x / 3|\n",
    "|x //= y|x를 y로 나눈 몫을 x에 할당| x //= 3 → x = x // 3|\n",
    "|x %= y|x를 y로 나눈 나머지를 x에 할당| x %= 3 → x = x % 3|\n",
    "|x &#42;&#42;= y|x의 y제곱을 x에 할당| x &#42;&#42;= 3 → x = x &#42;&#42; 3|"
   ]
  },
  {
   "cell_type": "code",
   "execution_count": 21,
   "id": "3221c88b",
   "metadata": {},
   "outputs": [
    {
     "name": "stdout",
     "output_type": "stream",
     "text": [
      "15\n"
     ]
    }
   ],
   "source": [
    "x = 10\n",
    "x += 5 # x = x + 5\n",
    "print(x)"
   ]
  },
  {
   "cell_type": "markdown",
   "id": "898f85ee",
   "metadata": {},
   "source": [
    "#### 숫자 자료형에서 자주 사용하는 함수\n",
    "- `abs(x)`: x의 절댓값을 반환\n",
    "- `round(x, n)`: x를 반올림한 결과를 반환\n",
    "    - n이 양의 정수일 경우, x를 소수점 n자리로 반올림하여 반환\n",
    "    - n이 음의 정수일 경우, x를 |n| 자리에서 반올림하여 반환"
   ]
  },
  {
   "cell_type": "code",
   "execution_count": 78,
   "id": "deebcab7",
   "metadata": {},
   "outputs": [
    {
     "name": "stdout",
     "output_type": "stream",
     "text": [
      "3.1415\n",
      "3.142\n",
      "66000\n"
     ]
    }
   ],
   "source": [
    "print(abs(-3.1415))\n",
    "print(round(3.1415, 3))\n",
    "print(round(65536, -3))"
   ]
  },
  {
   "cell_type": "markdown",
   "id": "fac2ad86",
   "metadata": {},
   "source": [
    "### 1-3. String Type (문자열)\n",
    "- 문자들의 집합\n",
    "- 작은따옴표(`'`)나 큰따옴표(`\"`)를 사용하여 문자열의 시작과 끝을 나타냄\n",
    "- 예) `'Hello, world'`, `'1234'`, `\"I don't know\"`, `\"안녕하세요\"`, `\"\"\"String with triple quotes\"\"\"`\n",
    "- 예)`'''Multiple\n",
    "Line\n",
    "Example'''`"
   ]
  },
  {
   "cell_type": "markdown",
   "id": "25ce6280",
   "metadata": {},
   "source": [
    "#### 작은따옴표를 쓰는 경우: 문자열 내에 큰따옴표를 쓰고 싶을 때"
   ]
  },
  {
   "cell_type": "code",
   "execution_count": 25,
   "id": "8a46b346",
   "metadata": {},
   "outputs": [
    {
     "name": "stdout",
     "output_type": "stream",
     "text": [
      "They use \"Hello, world\" for example\n"
     ]
    }
   ],
   "source": [
    "s = 'They use \"Hello, world\" for example'\n",
    "print(s)"
   ]
  },
  {
   "cell_type": "code",
   "execution_count": 23,
   "id": "ccd7483f",
   "metadata": {
    "scrolled": true
   },
   "outputs": [
    {
     "ename": "SyntaxError",
     "evalue": "invalid syntax (<ipython-input-23-93a8c2e3d1b5>, line 1)",
     "output_type": "error",
     "traceback": [
      "\u001b[1;36m  File \u001b[1;32m\"<ipython-input-23-93a8c2e3d1b5>\"\u001b[1;36m, line \u001b[1;32m1\u001b[0m\n\u001b[1;33m    s = \"They use \"Hello, world\" for example\" # error\u001b[0m\n\u001b[1;37m                   ^\u001b[0m\n\u001b[1;31mSyntaxError\u001b[0m\u001b[1;31m:\u001b[0m invalid syntax\n"
     ]
    }
   ],
   "source": [
    "# error\n",
    "s = \"They use \"Hello, world\" for example\""
   ]
  },
  {
   "cell_type": "markdown",
   "id": "72e22065",
   "metadata": {},
   "source": [
    "#### 큰따옴표를 쓰는 경우: 문자열 내에 작은따옴표를 쓰고 싶을 때"
   ]
  },
  {
   "cell_type": "code",
   "execution_count": 26,
   "id": "1bef495f",
   "metadata": {
    "scrolled": true
   },
   "outputs": [
    {
     "name": "stdout",
     "output_type": "stream",
     "text": [
      "I'm not okay.\n"
     ]
    }
   ],
   "source": [
    "s = \"I'm not okay.\"\n",
    "print(s)"
   ]
  },
  {
   "cell_type": "code",
   "execution_count": 28,
   "id": "f3979e15",
   "metadata": {},
   "outputs": [
    {
     "ename": "SyntaxError",
     "evalue": "invalid syntax (<ipython-input-28-f50206df4033>, line 2)",
     "output_type": "error",
     "traceback": [
      "\u001b[1;36m  File \u001b[1;32m\"<ipython-input-28-f50206df4033>\"\u001b[1;36m, line \u001b[1;32m2\u001b[0m\n\u001b[1;33m    s = 'I'm not okay.'\u001b[0m\n\u001b[1;37m           ^\u001b[0m\n\u001b[1;31mSyntaxError\u001b[0m\u001b[1;31m:\u001b[0m invalid syntax\n"
     ]
    }
   ],
   "source": [
    "# error\n",
    "s = 'I'm not okay.'"
   ]
  },
  {
   "cell_type": "markdown",
   "id": "592fc02c",
   "metadata": {},
   "source": [
    "#### 3중 작은따옴표(`'''`) 또는 3중 큰따옴표(`\"\"\"`)를 쓰는 경우: 여러 줄인 문자열을 나타낼 때"
   ]
  },
  {
   "cell_type": "code",
   "execution_count": 29,
   "id": "ea94ea88",
   "metadata": {},
   "outputs": [
    {
     "name": "stdout",
     "output_type": "stream",
     "text": [
      "\n",
      "Besides numbers,\n",
      "Python can also manipulate strings,\n",
      "which can be expressed in several ways.\n",
      "\n"
     ]
    }
   ],
   "source": [
    "multilines = '''\n",
    "Besides numbers,\n",
    "Python can also manipulate strings,\n",
    "which can be expressed in several ways.\n",
    "'''\n",
    "print(multilines)"
   ]
  },
  {
   "cell_type": "markdown",
   "id": "cad80a86",
   "metadata": {},
   "source": [
    "#### 또는 문자열 내부에 이스케이프 코드 \\n 을 사용\n",
    "(\\ : Backslash, 엔터 위에 있는 원화 표시(`\\`)를 누르면 입력 가능)"
   ]
  },
  {
   "cell_type": "code",
   "execution_count": 31,
   "id": "7de525a2",
   "metadata": {},
   "outputs": [
    {
     "name": "stdout",
     "output_type": "stream",
     "text": [
      "Besides numbers, \n",
      "Python can also manipulate strings,\n",
      "which can be expressed in several ways.\n"
     ]
    }
   ],
   "source": [
    "multilines = 'Besides numbers, \\nPython can also manipulate strings,\\nwhich can be expressed in several ways.'\n",
    "print(multilines)"
   ]
  },
  {
   "cell_type": "markdown",
   "id": "fc2c61d5",
   "metadata": {},
   "source": [
    "#### 참고: 자주 사용하는 이스케이프 코드 목록\n",
    "|**이스케이프 코드**|**설명**|\n",
    "|:---:|:---:|\n",
    "|\\n|문자열 내에서 줄을 바꿀 때 사용|\n",
    "|\\t|문자열 사이에 탭 간격을 줄 때 사용|\n",
    "|\\\\\\ |문자 \\를 그대로 표현할 때 사용|\n",
    "|\\\\'|작은따옴표(')를 그대로 표현할 때 사용|\n",
    "|\\\\\"|큰따옴표(\")를 그대로 표현할 때 사용|"
   ]
  },
  {
   "cell_type": "markdown",
   "id": "6269e970",
   "metadata": {},
   "source": [
    "### 1-4. Boolean Type (불린형)\n",
    "- 참과 거짓 (`True` or `False`) 중 하나의 값만 가질 수 있는 논리 자료형\n",
    "- `bool()` 을 이용하면 입력값이 True인지 False인지 확인할 수 있음"
   ]
  },
  {
   "cell_type": "code",
   "execution_count": 45,
   "id": "1d8b8a1f",
   "metadata": {},
   "outputs": [
    {
     "data": {
      "text/plain": [
       "set()"
      ]
     },
     "execution_count": 45,
     "metadata": {},
     "output_type": "execute_result"
    }
   ],
   "source": [
    "False\n",
    "0\n",
    "None\n",
    "''     # 빈 문자열\n",
    "[]     # 빈 리스트\n",
    "()     # 빈 튜플\n",
    "{}     # 빈 딕셔너리\n",
    "set()"
   ]
  },
  {
   "cell_type": "code",
   "execution_count": 2,
   "id": "b22a5eb8",
   "metadata": {},
   "outputs": [
    {
     "data": {
      "text/plain": [
       "False"
      ]
     },
     "execution_count": 2,
     "metadata": {},
     "output_type": "execute_result"
    }
   ],
   "source": [
    "bool(set())"
   ]
  },
  {
   "cell_type": "markdown",
   "id": "d4ac3154",
   "metadata": {},
   "source": [
    "#### 불린 자료형 연산자 - 비교 연산자\n",
    "- 결과값이 `True` 또는 `False`로 반환되는 연산자\n",
    "\
    "|**비교 연산자**|**설명**|**예시**|\n",
    "|:---:|:---:|:---:|\n",
    "|x == y|x와 y가 동일하다|(3 == 5) → false|\n",
    "|x != y|x와 y가 동일하지 않다| (3 != 5) → true|\n",
    "|x > y|x가 y보다 크다| (3 > 5) → false|\n",
    "|x < y|x가 y보다 작다| (3 < 5) → true|\n",
    "|x >= y|x가 y보다 크거나 같다| (3 >= 5) → false|\n",
    "|x <= y|x가 y보다 작거나 같다| (3 <= 5) → true|"
   ]
  },
  {
   "cell_type": "code",
   "execution_count": 52,
   "id": "a61b0c5b",
   "metadata": {
    "scrolled": true
   },
   "outputs": [
    {
     "name": "stdout",
     "output_type": "stream",
     "text": [
      "True\n",
      "False\n",
      "True\n",
      "True\n",
      "False\n"
     ]
    }
   ],
   "source": [
    "print(3.0 == 3)\n",
    "print(2.0 == 3)\n",
    "print('1' != 1)\n",
    "print('abc' < 'def')\n",
    "print('AA' == 'aa')"
   ]
  },
  {
   "cell_type": "markdown",
   "id": "c404dad3",
   "metadata": {},
   "source": [
    "#### 불린 자료형 연산자 - 논리 연산자\n",
    "- 피연산자가 불린 자료형인 연산자\n",
    "\n",
    "|**논리 연산자**|**설명**|**예시**|\n",
    "|:---:|:---:|:---:|\n",
    "|x and y|논리 AND 연산, x와 y가 참일때만 참|(True and False) → False|\n",
    "|x or y|논리 OR 연산, x와 y 둘 중 하나만 참이여도 참| (True or False) → True|\n",
    "|not x|논리 NOT 연산, x의 논리 상태를 반전| (not True) → False|\n",
    "\n",
    "- 연산자 우선 순위\n",
    "    1. `not`\n",
    "    2. `and`\n",
    "    3. `or`"
   ]
  },
  {
   "cell_type": "code",
   "execution_count": 58,
   "id": "be0822c0",
   "metadata": {},
   "outputs": [
    {
     "name": "stdout",
     "output_type": "stream",
     "text": [
      "False\n"
     ]
    }
   ],
   "source": [
    "expression = True and False or not True\n",
    "print(expression)"
   ]
  },
  {
   "cell_type": "code",
   "execution_count": 59,
   "id": "ac1bf79b",
   "metadata": {
    "scrolled": true
   },
   "outputs": [
    {
     "name": "stdout",
     "output_type": "stream",
     "text": [
      "True\n"
     ]
    }
   ],
   "source": [
    "expression = (0 == 3) or (3 < 5) and not 0\n",
    "print(expression)"
   ]
  },
  {
   "cell_type": "markdown",
   "id": "854c2c95",
   "metadata": {},
   "source": [
    "## 연습문제 1 - 미분가능성 체크\n",
    "- 아래의 두 함수 $f_1(x)$와 $f_2(x)$가 $x = 1$에서 미분 가능한지 출력하는 코드를 작성\n",
    "- $f_1(x) = x^2$,  $f_2(x) = |x - 1|$\n",
    "- 우미분값 $\\lim_{\\Delta x \\rightarrow +0} \\frac{f(a + \\Delta x) - f(a)}{\\Delta x}$ 과 좌미분값 $\\lim_{\\Delta x \\rightarrow -0} \\frac{f(a + \\Delta x) - f(a)}{\\Delta x}$ 을 계산\n",
    "- $\\Delta x$는 `0.00001`로 선언하여, 위의 좌미분값과 우미분값의 차이가 0.0001보다 작으면 같은 것으로 취급"
   ]
  },
  {
   "cell_type": "code",
   "execution_count": 86,
   "id": "3257b421",
   "metadata": {},
   "outputs": [
    {
     "name": "stdout",
     "output_type": "stream",
     "text": [
      "True\n",
      "False\n"
     ]
    }
   ],
   "source": [
    "# delta와 minus_delta 선언\n",
    "delta = 0.00001\n",
    "minus_delta = -delta\n",
    "\n",
    "# f1(x) = x ** 2 에 대한 미분가능성 체크\n",
    "# 우미분값을 계산하여 변수 right에 할당\n",
    "right = ((1 + delta) ** 2 - 1) / delta\n",
    "\n",
    "# 좌미분값을 계산하여 변수 left에 할당\n",
    "# delta 대신 minus_delta를 대입\n",
    "left = ((1 + minus_delta) ** 2 - 1) / minus_delta\n",
    "\n",
    "# 우미분값과 좌미분값의 차이를 abs()를 활용하여 계산 후, 변수 diff에 할당\n",
    "diff = abs(right - left)\n",
    "\n",
    "# print() 함수와 비교 연산자를 활용하여 diff가 0.0001보다 작으면 True를 출력\n",
    "print(diff < 0.0001)\n",
    "\n",
    "\n",
    "# f2(x) = abs(x - 1) 에 대한 미분가능성 체크\n",
    "# 우미분값을 계산하여 변수 right에 할당\n",
    "right = (abs(1 + delta - 1) - 0) / delta\n",
    "\n",
    "# 좌미분값을 계산하여 변수 left에 할당\n",
    "# delta 대신 minus_delta를 대입\n",
    "left = (abs(1 + minus_delta - 1) - 0) / minus_delta\n",
    "\n",
    "# 우미분값과 좌미분값의 차이를 abs()를 활용하여 계산 후, 변수 diff에 할당\n",
    "diff = abs(right - left)\n",
    "\n",
    "# print() 함수와 비교 연산자를 활용하여 diff가 0.0001보다 작으면 True를 출력\n",
    "print(diff < 0.0001)"
   ]
  },
  {
   "cell_type": "markdown",
   "id": "ba96cf60",
   "metadata": {},
   "source": [
    "## 2. 파이썬의 복합 자료형 - List (리스트)\n",
    "### 2-1. 리스트의 생성\n",
    "- 대괄호 `[]`로 감싸고 각 요소값을 쉼표 `,` 로 구분하여 리스트를 생성\n",
    "- 리스트 안에는 어떠한 자료형도 포함시킬 수 있음"
   ]
  },
  {
   "cell_type": "code",
   "execution_count": 88,
   "id": "a9cb9b56",
   "metadata": {},
   "outputs": [],
   "source": [
    "empty_list = []\n",
    "list_a = [123, 45.6, 7, 8.9]\n",
    "list_b = ['Python', 'Bootcamp', 1]\n",
    "list_c = [1, 2, ['Python', 'Bootcamp']]\n",
    "list_d = [[1, 2], [3, 4], [5, 6]]"
   ]
  },
  {
   "cell_type": "markdown",
   "id": "5f05ecdd",
   "metadata": {},
   "source": [
    "### 2-2. 리스트의 인덱싱\n",
    "- 리스트의 각 요소를 순서를 매겨 가리키는 것\n",
    "- ex) `a = [1, 3, 5, 7, 9]`\n",
    "- 0 번째 요소: 1\n",
    "- 3 번째 요소: 7\n",
    "- 대괄호 '`[]`'를 이용하여 리스트에서 특정 순서의 요소를 추출할 수 있음\n",
    "- 순서는 0부터 시작하는 것에 유의"
   ]
  },
  {
   "cell_type": "code",
   "execution_count": 101,
   "id": "1ad2bdc2",
   "metadata": {},
   "outputs": [
    {
     "name": "stdout",
     "output_type": "stream",
     "text": [
      "1\n",
      "7\n",
      "12\n",
      "9\n"
     ]
    }
   ],
   "source": [
    "a = [1, 3, 5, 7, 9]\n",
    "print(a[0])\n",
    "print(a[3])\n",
    "print(a[1] + a[4])\n",
    "print(a[-1]) # 뒤에서부터 셀 수도 있음"
   ]
  },
  {
   "cell_type": "markdown",
   "id": "920f0004",
   "metadata": {},
   "source": [
    "#### 리스트의 길이를 넘는 인덱스를 입력하면 에러가 발생함"
   ]
  },
  {
   "cell_type": "code",
   "execution_count": 98,
   "id": "e3acd571",
   "metadata": {},
   "outputs": [
    {
     "ename": "IndexError",
     "evalue": "list index out of range",
     "output_type": "error",
     "traceback": [
      "\u001b[1;31m---------------------------------------------------------------------------\u001b[0m",
      "\u001b[1;31mIndexError\u001b[0m                                Traceback (most recent call last)",
      "\u001b[1;32m<ipython-input-98-3878f4e01d67>\u001b[0m in \u001b[0;36m<module>\u001b[1;34m\u001b[0m\n\u001b[1;32m----> 1\u001b[1;33m \u001b[0mprint\u001b[0m\u001b[1;33m(\u001b[0m\u001b[0ma\u001b[0m\u001b[1;33m[\u001b[0m\u001b[1;36m5\u001b[0m\u001b[1;33m]\u001b[0m\u001b[1;33m)\u001b[0m \u001b[1;31m# error: list index out of range\u001b[0m\u001b[1;33m\u001b[0m\u001b[1;33m\u001b[0m\u001b[0m\n\u001b[0m",
      "\u001b[1;31mIndexError\u001b[0m: list index out of range"
     ]
    }
   ],
   "source": [
    "print(a[5]) # error: list index out of range"
   ]
  },
  {
   "cell_type": "code",
   "execution_count": 117,
   "id": "02abc3c5",
   "metadata": {
    "scrolled": true
   },
   "outputs": [
    {
     "ename": "IndexError",
     "evalue": "list index out of range",
     "output_type": "error",
     "traceback": [
      "\u001b[1;31m---------------------------------------------------------------------------\u001b[0m",
      "\u001b[1;31mIndexError\u001b[0m                                Traceback (most recent call last)",
      "\u001b[1;32m<ipython-input-117-f790fd4f8aff>\u001b[0m in \u001b[0;36m<module>\u001b[1;34m\u001b[0m\n\u001b[1;32m----> 1\u001b[1;33m \u001b[0mprint\u001b[0m\u001b[1;33m(\u001b[0m\u001b[0ma\u001b[0m\u001b[1;33m[\u001b[0m\u001b[1;33m-\u001b[0m\u001b[1;36m6\u001b[0m\u001b[1;33m]\u001b[0m\u001b[1;33m)\u001b[0m\u001b[1;33m\u001b[0m\u001b[1;33m\u001b[0m\u001b[0m\n\u001b[0m",
      "\u001b[1;31mIndexError\u001b[0m: list index out of range"
     ]
    }
   ],
   "source": [
    "print(a[-6]) # error: list index out of range"
   ]
  },
  {
   "cell_type": "markdown",
   "id": "99f3d59e",
   "metadata": {},
   "source": [
    "### 2-3. 중첩된 리스트\n",
    "- 리스트 생성 예시에서 봤듯이, 리스트에 리스트가 포함될 수 있음\n",
    "- ex) `complex_list = [1, 2, ['a', 'b', 'c']]`"
   ]
  },
  {
   "cell_type": "code",
   "execution_count": 102,
   "id": "7f2d283a",
   "metadata": {},
   "outputs": [
    {
     "data": {
      "text/plain": [
       "['a', 'b', 'c']"
      ]
     },
     "execution_count": 102,
     "metadata": {},
     "output_type": "execute_result"
    }
   ],
   "source": [
    "complex_list = [1, 2, ['a', 'b', 'c']]\n",
    "complex_list[2]"
   ]
  },
  {
   "cell_type": "markdown",
   "id": "0e05cffa",
   "metadata": {},
   "source": [
    "- 위 리스트에서 인덱싱을 두 번 하면 `'b'` 를 추출할 수 있음"
   ]
  },
  {
   "cell_type": "code",
   "execution_count": 103,
   "id": "dfc9305d",
   "metadata": {},
   "outputs": [
    {
     "data": {
      "text/plain": [
       "'b'"
      ]
     },
     "execution_count": 103,
     "metadata": {},
     "output_type": "execute_result"
    }
   ],
   "source": [
    "complex_list[2][1]"
   ]
  },
  {
   "cell_type": "markdown",
   "id": "fba797ab",
   "metadata": {},
   "source": [
    "#### 행렬의 표현\n",
    "- 중첩 리스트를 활용하여 행렬을 표현할 수 있음\n",
    "- ex) 3x4 행렬: \n",
    "$ \\left[\n",
    "\\begin{matrix}\n",
    "    1 & 2 & 3 & 4 \\\\\n",
    "    5 & 6 & 7 & 8 \\\\\n",
    "    9 & 10 & 11 & 12 \\\\\n",
    "\\end{matrix}\n",
    "\\right] $"
   ]
  },
  {
   "cell_type": "code",
   "execution_count": 107,
   "id": "465cbcb0",
   "metadata": {},
   "outputs": [
    {
     "data": {
      "text/plain": [
       "[[1, 2, 3, 4], [5, 6, 7, 8], [9, 10, 11, 12]]"
      ]
     },
     "execution_count": 107,
     "metadata": {},
     "output_type": "execute_result"
    }
   ],
   "source": [
    "matrix = [\n",
    "    [1, 2, 3, 4],\n",
    "    [5, 6, 7, 8],\n",
    "    [9, 10, 11, 12] \n",
    "]\n",
    "print(matrix)"
   ]
  },
  {
   "cell_type": "code",
   "execution_count": 126,
   "id": "0adb6acf",
   "metadata": {
    "scrolled": false
   },
   "outputs": [
    {
     "name": "stdout",
     "output_type": "stream",
     "text": [
      "[1, 2, 3, 4]\n",
      "7\n",
      "12\n",
      "[1, 2, 3, 4]\n"
     ]
    }
   ],
   "source": [
    "print(matrix[0])\n",
    "print(matrix[1][2])\n",
    "print(matrix[2][3])"
   ]
  },
  {
   "cell_type": "markdown",
   "id": "596f978c",
   "metadata": {},
   "source": [
    "### 2-4. 리스트 슬라이싱\n",
    "- 리스트에서 특정 범위의 요소를 추출하는 방법\n",
    "- 콜론 '`:`'을 이용하여, 리스트에서 추출할 범위를 지정할 수 있음\n",
    "- `a[i:j]`: `a` 리스트의 `i`번째 요소부터 `j-1`번째 요소까지 추출\n",
    "- `a[i:]`: `a` 리스트의 `i`번째 요소부터 끝까지 추출\n",
    "- `a[:j]`: `a` 리스트의 처음부터 `j-1`번째 요소까지 추출\n",
    "- `a[:]`: `a` 리스트의 처음부터 끝까지 추출 (=`a` 리스트 그대로)"
   ]
  },
  {
   "cell_type": "code",
   "execution_count": 138,
   "id": "441f66dd",
   "metadata": {
    "scrolled": true
   },
   "outputs": [
    {
     "name": "stdout",
     "output_type": "stream",
     "text": [
      "[1, 2, 4, 8, 16, 32]\n",
      "[1, 2, 4]\n",
      "[1, 2, 4, 8]\n",
      "[16, 32]\n",
      "[16, 32]\n"
     ]
    }
   ],
   "source": [
    "a = [1, 2, 4, 8, 16, 32]\n",
    "print(a[:])\n",
    "print(a[0:3])\n",
    "print(a[:4])\n",
    "print(a[4:])\n",
    "print(a[-2:])"
   ]
  },
  {
   "cell_type": "markdown",
   "id": "74be8209",
   "metadata": {},
   "source": [
    "### 2-5. 리스트 연산\n",
    "- 리스트 더하기 (`+`): 2개의 리스트를 합치는 연산\n",
    "- 리스트 반복하기 (`*`): 리스트를 특정 횟수 반복시키는 연산"
   ]
  },
  {
   "cell_type": "code",
   "execution_count": 139,
   "id": "05ffb194",
   "metadata": {},
   "outputs": [
    {
     "name": "stdout",
     "output_type": "stream",
     "text": [
      "[1, 3, 5, 2, 4, 6]\n",
      "[1, 3, 5, 1, 3, 5]\n"
     ]
    }
   ],
   "source": [
    "a = [1, 3, 5]\n",
    "b = [2, 4, 6]\n",
    "print(a + b)\n",
    "print(a * 3)"
   ]
  },
  {
   "cell_type": "markdown",
   "id": "dadd89a8",
   "metadata": {},
   "source": [
    "#### 리스트 길이 구하기\n",
    "- `len()` 함수를 이용하면 리스트의 길이를 구할 수 있음"
   ]
  },
  {
   "cell_type": "code",
   "execution_count": 145,
   "id": "b1e72452",
   "metadata": {
    "scrolled": true
   },
   "outputs": [
    {
     "name": "stdout",
     "output_type": "stream",
     "text": [
      "3\n",
      "4\n",
      "5\n"
     ]
    }
   ],
   "source": [
    "a = [1, 2, 3]\n",
    "b = [1, 2, 3, ['a', 'b', 2, 1, 0]]\n",
    "print(len(a))\n",
    "print(len(b))\n",
    "print(len(b[3]))"
   ]
  },
  {
   "cell_type": "markdown",
   "id": "87e89187",
   "metadata": {},
   "source": [
    "### 리스트의 수정과 삭제\n",
    "- 인덱스를 활용하여 기존 요소를 수정할 수 있음\n",
    "- del 함수를 사용하여 리스트에서 요소를 삭제할 수 있음"
   ]
  },
  {
   "cell_type": "code",
   "execution_count": 147,
   "id": "377c702a",
   "metadata": {},
   "outputs": [
    {
     "name": "stdout",
     "output_type": "stream",
     "text": [
      "['Cat', 'Dog', 'Elephant', 'Fox']\n",
      "['Cat', 'Dog', 'Eagle', 'Fox']\n",
      "['Cat', 'Eagle', 'Fox']\n"
     ]
    }
   ],
   "source": [
    "a = ['Cat', 'Dog', 'Elephant', 'Fox']\n",
    "print(a)\n",
    "\n",
    "a[2] = 'Eagle' # 2 번째 요소 'Elephant'를 'Eagle'로 바꿈\n",
    "print(a) # ['Cat', 'Dog', 'Eagle', 'Fox']\n",
    "\n",
    "del a[1] # 1 번째 요소 'Dog'를 리스트에서 삭제\n",
    "print(a) # ['Cat', 'Eagle', 'Fox']"
   ]
  },
  {
   "cell_type": "markdown",
   "id": "07ae7cf6",
   "metadata": {},
   "source": [
    "### 참고: 문자열 자료형의 연산\n",
    "- 리스트와 마찬가지로, 문자열도 단일 리스트와 같은 작업이 가능"
   ]
  },
  {
   "cell_type": "markdown",
   "id": "4a5a3ec9",
   "metadata": {},
   "source": [
    "#### 문자열 인덱싱\n",
    "- 문자열의 각 문자를 순서를 매겨 가리키는 것\n",
    "- ex)  \n",
    "`Python`  \n",
    "`012345`  \n",
    "0번째 문자: P  \n",
    "4번째 문자: o\n",
    "- 대괄호 '`[]`'를 이용하여 문자열에서 특정 위치의 문자를 추출할 수 있음\n",
    "- 순서는 0부터 시작하는 것에 유의"
   ]
  },
  {
   "cell_type": "code",
   "execution_count": 42,
   "id": "4ce37c33",
   "metadata": {},
   "outputs": [
    {
     "name": "stdout",
     "output_type": "stream",
     "text": [
      "P\n",
      "b\n",
      "m\n"
     ]
    }
   ],
   "source": [
    "a = \"Python bootcamp\"\n",
    "print(a[0])\n",
    "print(a[7])\n",
    "print(a[-2]) # 뒤에서부터 셀 수도 있음"
   ]
  },
  {
   "cell_type": "markdown",
   "id": "037299e1",
   "metadata": {},
   "source": [
    "#### 문자열 슬라이싱"
   ]
  },
  {
   "cell_type": "code",
   "execution_count": 43,
   "id": "8b0f4c48",
   "metadata": {},
   "outputs": [
    {
     "data": {
      "text/plain": [
       "'Python'"
      ]
     },
     "execution_count": 43,
     "metadata": {},
     "output_type": "execute_result"
    }
   ],
   "source": [
    "a = \"Python bootcamp\"\n",
    "a[0:6]"
   ]
  },
  {
   "cell_type": "code",
   "execution_count": 44,
   "id": "1bfc12d3",
   "metadata": {
    "scrolled": false
   },
   "outputs": [
    {
     "name": "stdout",
     "output_type": "stream",
     "text": [
      "Python\n",
      " bootcamp\n",
      "Python bootcamp\n"
     ]
    }
   ],
   "source": [
    "a = \"Python bootcamp\"\n",
    "print(a[:6])\n",
    "print(a[6:])\n",
    "print(a[:])"
   ]
  },
  {
   "cell_type": "markdown",
   "id": "8aae8ef1",
   "metadata": {},
   "source": [
    "#### 문자열 자료형 연산자"
   ]
  },
  {
   "cell_type": "code",
   "execution_count": 32,
   "id": "e5329d42",
   "metadata": {
    "scrolled": true
   },
   "outputs": [
    {
     "name": "stdout",
     "output_type": "stream",
     "text": [
      "Hello, world.\n"
     ]
    }
   ],
   "source": [
    "head = \"Hello, \"\n",
    "tail = \"world.\"\n",
    "print(head + tail)"
   ]
  },
  {
   "cell_type": "code",
   "execution_count": 33,
   "id": "efdd9ac1",
   "metadata": {},
   "outputs": [
    {
     "name": "stdout",
     "output_type": "stream",
     "text": [
      "PythonPythonPython\n"
     ]
    }
   ],
   "source": [
    "s = \"Python\"\n",
    "print (s * 3)"
   ]
  },
  {
   "cell_type": "markdown",
   "id": "d30c9a6e",
   "metadata": {},
   "source": [
    "#### 문자열 길이 구하기"
   ]
  },
  {
   "cell_type": "code",
   "execution_count": 36,
   "id": "95a09cfa",
   "metadata": {},
   "outputs": [
    {
     "data": {
      "text/plain": [
       "15"
      ]
     },
     "execution_count": 36,
     "metadata": {},
     "output_type": "execute_result"
    }
   ],
   "source": [
    "s = \"Python bootcamp\"\n",
    "len(s)"
   ]
  },
  {
   "cell_type": "markdown",
   "id": "ab2f949a",
   "metadata": {},
   "source": [
    "## 연습문제 2 - 행렬의 연산\n",
    "- 중첩 리스트를 활용하여, 행렬을 선언하고, 각종 연산을 직접 구현\n",
    "- $A = \n",
    "\\left[\n",
    "\\begin{matrix}\n",
    "    2 & 1\\\\\n",
    "    4 & 7\\\\\n",
    "\\end{matrix}\n",
    "\\right]$, \n",
    "$B = \n",
    "\\left[\n",
    "\\begin{matrix}\n",
    "    4 & 2\\\\\n",
    "    9 & 5\\\\\n",
    "\\end{matrix}\n",
    "\\right]$\n",
    "- 구현해야 할 연산\n",
    "    1. A의 행렬식 $|A|$ 를 계산하여 출력\n",
    "    2. A의 역행렬 $A^{-1}$ 을 계산하여 출력\n",
    "    3. A와 B의 행렬곱 $A \\times B$ 를 계산하여 출력\n",
    "- 단, 리스트의 인덱스를 활용하여 코드를 구현할 것"
   ]
  },
  {
   "cell_type": "code",
   "execution_count": 154,
   "id": "86300c04",
   "metadata": {},
   "outputs": [
    {
     "name": "stdout",
     "output_type": "stream",
     "text": [
      "10\n",
      "[[0.7, -0.1], [-0.4, 0.2]]\n",
      "[[17, 9], [79, 43]]\n"
     ]
    }
   ],
   "source": [
    "# 중첩 리스트 A와 B 선언\n",
    "A = [\n",
    "    [2, 1],\n",
    "    [4, 7]\n",
    "]\n",
    "B = [\n",
    "    [4, 2],\n",
    "    [9, 5]\n",
    "]\n",
    "\n",
    "# A의 행렬식 detA 계산\n",
    "detA = A[0][0] * A[1][1] - A[0][1] * A[1][0]\n",
    "\n",
    "# A의 역행렬을 계산하여 새로운 중첩리스트 C에 할당\n",
    "C = [\n",
    "    [A[1][1] / detA, -A[0][1] / detA],\n",
    "    [-A[1][0] / detA, A[0][0] / detA]\n",
    "]\n",
    "\n",
    "# A와 B의 행렬곱을 계산하여 새로운 중첩리스트 D에 할당\n",
    "D = [\n",
    "    [A[0][0] * B[0][0] + A[0][1] * B[1][0], A[0][0] * B[0][1] + A[0][1] * B[1][1]],\n",
    "    [A[1][0] * B[0][0] + A[1][1] * B[1][0], A[1][0] * B[0][1] + A[1][1] * B[1][1]]\n",
    "]\n",
    "\n",
    "# print() 함수를 활용하여 detA, C, D를 출력\n",
    "print(detA)\n",
    "print(C)\n",
    "print(D)"
   ]
  }
 ],
 "metadata": {
  "kernelspec": {
   "display_name": "Python 3",
   "language": "python",
   "name": "python3"
  },
  "language_info": {
   "codemirror_mode": {
    "name": "ipython",
    "version": 3
   },
   "file_extension": ".py",
   "mimetype": "text/x-python",
   "name": "python",
   "nbconvert_exporter": "python",
   "pygments_lexer": "ipython3",
   "version": "3.8.8"
  }
 },
 "nbformat": 4,
 "nbformat_minor": 5
}
